{
 "cells": [
  {
   "cell_type": "code",
   "execution_count": 1,
   "metadata": {},
   "outputs": [],
   "source": [
    "import pandas as pd\n",
    "import numpy as np\n",
    "import json"
   ]
  },
  {
   "cell_type": "code",
   "execution_count": 2,
   "metadata": {},
   "outputs": [],
   "source": [
    "# path = r'./data/raw/'\n",
    "# all_files = glob.glob(os.path.join(path, \"*.csv\"))\n",
    "# df_from_each_file = (pd.read_csv(f) for f in all_files)\n",
    "# pd.concat(df_from_each_file, ignore_index=True).to_csv('./data/merged.csv', index=False)"
   ]
  },
  {
   "cell_type": "code",
   "execution_count": 3,
   "metadata": {},
   "outputs": [],
   "source": [
    "df = pd.read_csv('./data/merged.csv')"
   ]
  },
  {
   "cell_type": "code",
   "execution_count": 4,
   "metadata": {},
   "outputs": [
    {
     "data": {
      "text/plain": [
       "Index(['backers_count', 'blurb', 'category', 'converted_pledged_amount',\n",
       "       'country', 'created_at', 'creator', 'currency', 'currency_symbol',\n",
       "       'currency_trailing_code', 'current_currency', 'deadline',\n",
       "       'disable_communication', 'friends', 'fx_rate', 'goal', 'id',\n",
       "       'is_backing', 'is_starrable', 'is_starred', 'launched_at', 'location',\n",
       "       'name', 'permissions', 'photo', 'pledged', 'profile', 'slug',\n",
       "       'source_url', 'spotlight', 'staff_pick', 'state', 'state_changed_at',\n",
       "       'static_usd_rate', 'urls', 'usd_pledged', 'usd_type'],\n",
       "      dtype='object')"
      ]
     },
     "execution_count": 4,
     "metadata": {},
     "output_type": "execute_result"
    }
   ],
   "source": [
    "df.columns"
   ]
  },
  {
   "cell_type": "code",
   "execution_count": 5,
   "metadata": {},
   "outputs": [
    {
     "data": {
      "text/plain": [
       "backers_count                                                               0\n",
       "blurb                       Relationship Podcast based on our funny and in...\n",
       "category                    {\"id\":239,\"name\":\"Radio & Podcasts\",\"slug\":\"pu...\n",
       "converted_pledged_amount                                                    0\n",
       "country                                                                    US\n",
       "created_at                                                         1395262323\n",
       "creator                     {\"id\":1989638862,\"name\":\"Curtis Rambo\",\"is_reg...\n",
       "currency                                                                  USD\n",
       "currency_symbol                                                             $\n",
       "currency_trailing_code                                                   True\n",
       "current_currency                                                          USD\n",
       "deadline                                                           1398442191\n",
       "disable_communication                                                   False\n",
       "friends                                                                   NaN\n",
       "fx_rate                                                                   1.0\n",
       "goal                                                                    300.0\n",
       "id                                                                  405177879\n",
       "is_backing                                                                NaN\n",
       "is_starrable                                                            False\n",
       "is_starred                                                                NaN\n",
       "launched_at                                                        1395850191\n",
       "location                    {\"id\":2426010,\"name\":\"Huntsville\",\"slug\":\"hunt...\n",
       "name                                    Adickted Podcast Problems! (Canceled)\n",
       "permissions                                                               NaN\n",
       "photo                       {\"key\":\"assets/011/670/087/ae37b4ab0a0a2807ed2...\n",
       "pledged                                                                   0.0\n",
       "profile                     {\"id\":937371,\"project_id\":937371,\"state\":\"inac...\n",
       "slug                                                adickted-podcast-problems\n",
       "source_url                  https://www.kickstarter.com/discover/categorie...\n",
       "spotlight                                                               False\n",
       "staff_pick                                                              False\n",
       "state                                                                canceled\n",
       "state_changed_at                                                   1396828350\n",
       "static_usd_rate                                                           1.0\n",
       "urls                        {\"web\":{\"project\":\"https://www.kickstarter.com...\n",
       "usd_pledged                                                               0.0\n",
       "usd_type                                                             domestic\n",
       "Name: 8300, dtype: object"
      ]
     },
     "execution_count": 5,
     "metadata": {},
     "output_type": "execute_result"
    }
   ],
   "source": [
    "df.iloc[8300, 0:]"
   ]
  },
  {
   "cell_type": "code",
   "execution_count": 6,
   "metadata": {},
   "outputs": [],
   "source": [
    "remove = ['id', 'permissions', 'photo', 'disable_communication', 'converted_pledged_amount', 'pledged', 'currency', 'slug',\n",
    "       'source_url',  'creator', 'friends', 'profile', 'urls', 'is_backing', 'is_starrable', 'is_starred', 'usd_pledged', 'created_at',\n",
    "       'backers_count', 'usd_type', 'static_usd_rate','state_changed_at', 'currency_symbol','currency_trailing_code', 'current_currency', \n",
    "       'spotlight','staff_pick', 'fx_rate']"
   ]
  },
  {
   "cell_type": "code",
   "execution_count": 7,
   "metadata": {},
   "outputs": [],
   "source": [
    "df.drop(remove, axis=1, inplace=True)"
   ]
  },
  {
   "cell_type": "code",
   "execution_count": 8,
   "metadata": {},
   "outputs": [],
   "source": [
    "categories = df['category'].apply(json.loads)\n",
    "\n",
    "df['category_slug'] = categories.apply(lambda x: x['slug'])"
   ]
  },
  {
   "cell_type": "code",
   "execution_count": 9,
   "metadata": {},
   "outputs": [],
   "source": [
    "df['main_category'] = df['category_slug'].apply(lambda x: x.split('/'))\n",
    "df['sub_category'] = df['main_category'].apply(lambda x: x[1] if len(x) > 1 else x[0])\n",
    "df['main_category'] = df['main_category'].apply(lambda x: x[0])"
   ]
  },
  {
   "cell_type": "code",
   "execution_count": 10,
   "metadata": {},
   "outputs": [
    {
     "data": {
      "text/plain": [
       "main_category\n",
       "film & video    27566\n",
       "music           27237\n",
       "technology      21100\n",
       "art             20474\n",
       "publishing      20123\n",
       "food            16148\n",
       "games           13947\n",
       "fashion         12049\n",
       "comics           8803\n",
       "design           8776\n",
       "photography      8118\n",
       "crafts           7196\n",
       "theater          6862\n",
       "journalism       5815\n",
       "dance            4043\n",
       "Name: count, dtype: int64"
      ]
     },
     "execution_count": 10,
     "metadata": {},
     "output_type": "execute_result"
    }
   ],
   "source": [
    "df['main_category'].value_counts()  "
   ]
  },
  {
   "cell_type": "code",
   "execution_count": 11,
   "metadata": {},
   "outputs": [
    {
     "data": {
      "text/plain": [
       "sub_category\n",
       "web               4569\n",
       "product design    4257\n",
       "tabletop games    4054\n",
       "accessories       3562\n",
       "comic books       3457\n",
       "                  ... \n",
       "quilts             109\n",
       "games               95\n",
       "letterpress         62\n",
       "chiptune            44\n",
       "taxidermy           18\n",
       "Name: count, Length: 159, dtype: int64"
      ]
     },
     "execution_count": 11,
     "metadata": {},
     "output_type": "execute_result"
    }
   ],
   "source": [
    "df['sub_category'].value_counts()"
   ]
  },
  {
   "cell_type": "code",
   "execution_count": 12,
   "metadata": {},
   "outputs": [],
   "source": [
    "df.drop(['category'], axis=1, inplace=True)"
   ]
  },
  {
   "cell_type": "code",
   "execution_count": 13,
   "metadata": {},
   "outputs": [],
   "source": [
    "# fill nan with 'unknown' for location column\n",
    "df['location'].fillna('unknown', inplace=True)"
   ]
  },
  {
   "cell_type": "code",
   "execution_count": 14,
   "metadata": {},
   "outputs": [],
   "source": [
    "def extract_json(df, col, key):\n",
    "    location_type = []\n",
    "    for i in range(len(df)):\n",
    "        if df[col][i] == df[col][i]:\n",
    "            try:\n",
    "                location_type.append(json.loads(df[col][i])[key])\n",
    "            except:\n",
    "                location_type.append(np.nan)\n",
    "        else:\n",
    "            location_type.append(np.nan)\n",
    "    return location_type\n"
   ]
  },
  {
   "cell_type": "code",
   "execution_count": 15,
   "metadata": {},
   "outputs": [],
   "source": [
    "df['location_type'] = extract_json(df, 'location', 'type')"
   ]
  },
  {
   "cell_type": "code",
   "execution_count": 16,
   "metadata": {},
   "outputs": [
    {
     "data": {
      "text/plain": [
       "location_type\n",
       "Town             193030\n",
       "County             7831\n",
       "Suburb             5162\n",
       "LocalAdmin         1221\n",
       "Zip                 496\n",
       "Island              243\n",
       "Country              27\n",
       "Miscellaneous        16\n",
       "Estate                5\n",
       "Name: count, dtype: int64"
      ]
     },
     "execution_count": 16,
     "metadata": {},
     "output_type": "execute_result"
    }
   ],
   "source": [
    "df['location_type'].value_counts()"
   ]
  },
  {
   "cell_type": "code",
   "execution_count": 17,
   "metadata": {},
   "outputs": [],
   "source": [
    "# convert date columns to datetime iso format \n",
    "df['deadline'] = pd.to_datetime(df['deadline'], unit='s')\n",
    "df['launched_at'] = pd.to_datetime(df['launched_at'], unit='s')"
   ]
  },
  {
   "cell_type": "code",
   "execution_count": 18,
   "metadata": {},
   "outputs": [],
   "source": [
    "# create new column for campaign duration\n",
    "df.loc[:, 'duration'] = df['deadline'] - df['launched_at']"
   ]
  },
  {
   "cell_type": "code",
   "execution_count": 19,
   "metadata": {},
   "outputs": [],
   "source": [
    "# change campain duration to integer\n",
    "df['duration'] = df['duration'].apply(lambda x: x.days)"
   ]
  },
  {
   "cell_type": "code",
   "execution_count": 20,
   "metadata": {},
   "outputs": [
    {
     "data": {
      "text/plain": [
       "0    49\n",
       "1    30\n",
       "2    30\n",
       "3    59\n",
       "4    30\n",
       "Name: duration, dtype: int64"
      ]
     },
     "execution_count": 20,
     "metadata": {},
     "output_type": "execute_result"
    }
   ],
   "source": [
    "df['duration'].head()"
   ]
  },
  {
   "cell_type": "code",
   "execution_count": 21,
   "metadata": {},
   "outputs": [],
   "source": [
    "df.loc[:, 'deadline_month'] = df['deadline'].dt.month\n",
    "df.loc[:, 'deadline_day'] = df['deadline'].dt.day\n",
    "\n",
    "df.loc[:, 'launched_at_month'] = df['launched_at'].dt.month\n",
    "df.loc[:, 'launched_at_day'] = df['launched_at'].dt.day"
   ]
  },
  {
   "cell_type": "code",
   "execution_count": 22,
   "metadata": {},
   "outputs": [
    {
     "name": "stdout",
     "output_type": "stream",
     "text": [
      "<class 'pandas.core.frame.DataFrame'>\n",
      "RangeIndex: 208257 entries, 0 to 208256\n",
      "Data columns (total 17 columns):\n",
      " #   Column             Non-Null Count   Dtype         \n",
      "---  ------             --------------   -----         \n",
      " 0   blurb              208249 non-null  object        \n",
      " 1   country            208257 non-null  object        \n",
      " 2   deadline           208257 non-null  datetime64[ns]\n",
      " 3   goal               208257 non-null  float64       \n",
      " 4   launched_at        208257 non-null  datetime64[ns]\n",
      " 5   location           208257 non-null  object        \n",
      " 6   name               208257 non-null  object        \n",
      " 7   state              208257 non-null  object        \n",
      " 8   category_slug      208257 non-null  object        \n",
      " 9   main_category      208257 non-null  object        \n",
      " 10  sub_category       208257 non-null  object        \n",
      " 11  location_type      208031 non-null  object        \n",
      " 12  duration           208257 non-null  int64         \n",
      " 13  deadline_month     208257 non-null  int32         \n",
      " 14  deadline_day       208257 non-null  int32         \n",
      " 15  launched_at_month  208257 non-null  int32         \n",
      " 16  launched_at_day    208257 non-null  int32         \n",
      "dtypes: datetime64[ns](2), float64(1), int32(4), int64(1), object(9)\n",
      "memory usage: 23.8+ MB\n"
     ]
    }
   ],
   "source": [
    "df.info()"
   ]
  },
  {
   "cell_type": "code",
   "execution_count": 23,
   "metadata": {},
   "outputs": [
    {
     "data": {
      "text/plain": [
       "blurb                  8\n",
       "country                0\n",
       "deadline               0\n",
       "goal                   0\n",
       "launched_at            0\n",
       "location               0\n",
       "name                   0\n",
       "state                  0\n",
       "category_slug          0\n",
       "main_category          0\n",
       "sub_category           0\n",
       "location_type        226\n",
       "duration               0\n",
       "deadline_month         0\n",
       "deadline_day           0\n",
       "launched_at_month      0\n",
       "launched_at_day        0\n",
       "dtype: int64"
      ]
     },
     "execution_count": 23,
     "metadata": {},
     "output_type": "execute_result"
    }
   ],
   "source": [
    "# check for null values\n",
    "df.isnull().sum()"
   ]
  },
  {
   "cell_type": "code",
   "execution_count": 24,
   "metadata": {},
   "outputs": [],
   "source": [
    "# fill null values with 'unknown' for location_type column\n",
    "df['location_type'].fillna('unknown', inplace=True)"
   ]
  },
  {
   "cell_type": "code",
   "execution_count": 25,
   "metadata": {},
   "outputs": [],
   "source": [
    "# check for duplicates\n",
    "df.duplicated().sum()\n",
    "# remove duplicates\n",
    "df.drop_duplicates(inplace=True)"
   ]
  },
  {
   "cell_type": "code",
   "execution_count": 26,
   "metadata": {},
   "outputs": [
    {
     "data": {
      "text/html": [
       "<div>\n",
       "<style scoped>\n",
       "    .dataframe tbody tr th:only-of-type {\n",
       "        vertical-align: middle;\n",
       "    }\n",
       "\n",
       "    .dataframe tbody tr th {\n",
       "        vertical-align: top;\n",
       "    }\n",
       "\n",
       "    .dataframe thead th {\n",
       "        text-align: right;\n",
       "    }\n",
       "</style>\n",
       "<table border=\"1\" class=\"dataframe\">\n",
       "  <thead>\n",
       "    <tr style=\"text-align: right;\">\n",
       "      <th></th>\n",
       "      <th>blurb</th>\n",
       "      <th>country</th>\n",
       "      <th>deadline</th>\n",
       "      <th>goal</th>\n",
       "      <th>launched_at</th>\n",
       "      <th>location</th>\n",
       "      <th>name</th>\n",
       "      <th>state</th>\n",
       "      <th>category_slug</th>\n",
       "      <th>main_category</th>\n",
       "      <th>sub_category</th>\n",
       "      <th>location_type</th>\n",
       "      <th>duration</th>\n",
       "      <th>deadline_month</th>\n",
       "      <th>deadline_day</th>\n",
       "      <th>launched_at_month</th>\n",
       "      <th>launched_at_day</th>\n",
       "    </tr>\n",
       "  </thead>\n",
       "  <tbody>\n",
       "    <tr>\n",
       "      <th>0</th>\n",
       "      <td>Babalus Shoes</td>\n",
       "      <td>US</td>\n",
       "      <td>2019-03-14 05:02:55</td>\n",
       "      <td>28000.0</td>\n",
       "      <td>2019-01-23 06:02:55</td>\n",
       "      <td>{\"id\":2462429,\"name\":\"Novato\",\"slug\":\"novato-c...</td>\n",
       "      <td>Babalus Children's Shoes</td>\n",
       "      <td>live</td>\n",
       "      <td>fashion/footwear</td>\n",
       "      <td>fashion</td>\n",
       "      <td>footwear</td>\n",
       "      <td>Town</td>\n",
       "      <td>49</td>\n",
       "      <td>3</td>\n",
       "      <td>14</td>\n",
       "      <td>1</td>\n",
       "      <td>23</td>\n",
       "    </tr>\n",
       "    <tr>\n",
       "      <th>1</th>\n",
       "      <td>A colorful Dia de los Muertos themed oracle de...</td>\n",
       "      <td>US</td>\n",
       "      <td>2017-09-09 17:00:59</td>\n",
       "      <td>1000.0</td>\n",
       "      <td>2017-08-10 17:00:59</td>\n",
       "      <td>{\"id\":2400549,\"name\":\"Euless\",\"slug\":\"euless-t...</td>\n",
       "      <td>The Ofrenda Oracle Deck</td>\n",
       "      <td>successful</td>\n",
       "      <td>games/playing cards</td>\n",
       "      <td>games</td>\n",
       "      <td>playing cards</td>\n",
       "      <td>Town</td>\n",
       "      <td>30</td>\n",
       "      <td>9</td>\n",
       "      <td>9</td>\n",
       "      <td>8</td>\n",
       "      <td>10</td>\n",
       "    </tr>\n",
       "    <tr>\n",
       "      <th>2</th>\n",
       "      <td>Electra's long awaited, eclectic Debut Pop/Roc...</td>\n",
       "      <td>US</td>\n",
       "      <td>2013-06-12 05:03:15</td>\n",
       "      <td>15000.0</td>\n",
       "      <td>2013-05-13 05:03:15</td>\n",
       "      <td>{\"id\":2423474,\"name\":\"Hollywood\",\"slug\":\"holly...</td>\n",
       "      <td>Record Electra's Debut Album (Pop, Rock, Class...</td>\n",
       "      <td>successful</td>\n",
       "      <td>music/rock</td>\n",
       "      <td>music</td>\n",
       "      <td>rock</td>\n",
       "      <td>Suburb</td>\n",
       "      <td>30</td>\n",
       "      <td>6</td>\n",
       "      <td>12</td>\n",
       "      <td>5</td>\n",
       "      <td>13</td>\n",
       "    </tr>\n",
       "    <tr>\n",
       "      <th>3</th>\n",
       "      <td>The Mist of Tribunal is a turn-based card game...</td>\n",
       "      <td>GB</td>\n",
       "      <td>2017-03-13 17:22:56</td>\n",
       "      <td>10000.0</td>\n",
       "      <td>2017-01-12 18:22:56</td>\n",
       "      <td>{\"id\":475457,\"name\":\"Kaunas\",\"slug\":\"kaunas-ka...</td>\n",
       "      <td>The Mist of Tribunal - A Card Game</td>\n",
       "      <td>failed</td>\n",
       "      <td>games/playing cards</td>\n",
       "      <td>games</td>\n",
       "      <td>playing cards</td>\n",
       "      <td>Town</td>\n",
       "      <td>59</td>\n",
       "      <td>3</td>\n",
       "      <td>13</td>\n",
       "      <td>1</td>\n",
       "      <td>12</td>\n",
       "    </tr>\n",
       "    <tr>\n",
       "      <th>4</th>\n",
       "      <td>Livng with a brain impairment, what its like t...</td>\n",
       "      <td>US</td>\n",
       "      <td>2013-01-09 20:32:07</td>\n",
       "      <td>2800.0</td>\n",
       "      <td>2012-12-10 20:32:07</td>\n",
       "      <td>{\"id\":2507703,\"name\":\"Traverse City\",\"slug\":\"t...</td>\n",
       "      <td>Help change the face of Brain Impairment</td>\n",
       "      <td>successful</td>\n",
       "      <td>publishing/nonfiction</td>\n",
       "      <td>publishing</td>\n",
       "      <td>nonfiction</td>\n",
       "      <td>Town</td>\n",
       "      <td>30</td>\n",
       "      <td>1</td>\n",
       "      <td>9</td>\n",
       "      <td>12</td>\n",
       "      <td>10</td>\n",
       "    </tr>\n",
       "  </tbody>\n",
       "</table>\n",
       "</div>"
      ],
      "text/plain": [
       "                                               blurb country   \n",
       "0                                      Babalus Shoes      US  \\\n",
       "1  A colorful Dia de los Muertos themed oracle de...      US   \n",
       "2  Electra's long awaited, eclectic Debut Pop/Roc...      US   \n",
       "3  The Mist of Tribunal is a turn-based card game...      GB   \n",
       "4  Livng with a brain impairment, what its like t...      US   \n",
       "\n",
       "             deadline     goal         launched_at   \n",
       "0 2019-03-14 05:02:55  28000.0 2019-01-23 06:02:55  \\\n",
       "1 2017-09-09 17:00:59   1000.0 2017-08-10 17:00:59   \n",
       "2 2013-06-12 05:03:15  15000.0 2013-05-13 05:03:15   \n",
       "3 2017-03-13 17:22:56  10000.0 2017-01-12 18:22:56   \n",
       "4 2013-01-09 20:32:07   2800.0 2012-12-10 20:32:07   \n",
       "\n",
       "                                            location   \n",
       "0  {\"id\":2462429,\"name\":\"Novato\",\"slug\":\"novato-c...  \\\n",
       "1  {\"id\":2400549,\"name\":\"Euless\",\"slug\":\"euless-t...   \n",
       "2  {\"id\":2423474,\"name\":\"Hollywood\",\"slug\":\"holly...   \n",
       "3  {\"id\":475457,\"name\":\"Kaunas\",\"slug\":\"kaunas-ka...   \n",
       "4  {\"id\":2507703,\"name\":\"Traverse City\",\"slug\":\"t...   \n",
       "\n",
       "                                                name       state   \n",
       "0                           Babalus Children's Shoes        live  \\\n",
       "1                            The Ofrenda Oracle Deck  successful   \n",
       "2  Record Electra's Debut Album (Pop, Rock, Class...  successful   \n",
       "3                 The Mist of Tribunal - A Card Game      failed   \n",
       "4           Help change the face of Brain Impairment  successful   \n",
       "\n",
       "           category_slug main_category   sub_category location_type  duration   \n",
       "0       fashion/footwear       fashion       footwear          Town        49  \\\n",
       "1    games/playing cards         games  playing cards          Town        30   \n",
       "2             music/rock         music           rock        Suburb        30   \n",
       "3    games/playing cards         games  playing cards          Town        59   \n",
       "4  publishing/nonfiction    publishing     nonfiction          Town        30   \n",
       "\n",
       "   deadline_month  deadline_day  launched_at_month  launched_at_day  \n",
       "0               3            14                  1               23  \n",
       "1               9             9                  8               10  \n",
       "2               6            12                  5               13  \n",
       "3               3            13                  1               12  \n",
       "4               1             9                 12               10  "
      ]
     },
     "execution_count": 26,
     "metadata": {},
     "output_type": "execute_result"
    }
   ],
   "source": [
    "df.head()"
   ]
  },
  {
   "cell_type": "code",
   "execution_count": 27,
   "metadata": {},
   "outputs": [],
   "source": [
    "# drop location\n",
    "df.drop(['location', 'category_slug', 'deadline', 'launched_at'], axis=1, inplace=True)"
   ]
  },
  {
   "cell_type": "code",
   "execution_count": 28,
   "metadata": {},
   "outputs": [],
   "source": [
    "df = df[df['state'] != 'live']"
   ]
  },
  {
   "cell_type": "code",
   "execution_count": 29,
   "metadata": {},
   "outputs": [
    {
     "data": {
      "text/plain": [
       "state\n",
       "successful    94399\n",
       "failed        73923\n",
       "canceled       8581\n",
       "suspended       619\n",
       "Name: count, dtype: int64"
      ]
     },
     "execution_count": 29,
     "metadata": {},
     "output_type": "execute_result"
    }
   ],
   "source": [
    "df['state'].value_counts()"
   ]
  },
  {
   "cell_type": "code",
   "execution_count": 30,
   "metadata": {},
   "outputs": [],
   "source": [
    "# save the dataframe as a csv file\n",
    "df.to_csv('data.csv',index=False)"
   ]
  },
  {
   "cell_type": "code",
   "execution_count": null,
   "metadata": {},
   "outputs": [],
   "source": []
  }
 ],
 "metadata": {
  "kernelspec": {
   "display_name": "Python 3",
   "language": "python",
   "name": "python3"
  },
  "language_info": {
   "codemirror_mode": {
    "name": "ipython",
    "version": 3
   },
   "file_extension": ".py",
   "mimetype": "text/x-python",
   "name": "python",
   "nbconvert_exporter": "python",
   "pygments_lexer": "ipython3",
   "version": "3.9.6"
  }
 },
 "nbformat": 4,
 "nbformat_minor": 2
}
