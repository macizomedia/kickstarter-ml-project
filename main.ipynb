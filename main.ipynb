{
 "cells": [
  {
   "cell_type": "code",
   "execution_count": 1,
   "metadata": {},
   "outputs": [],
   "source": [
    "import pandas as pd\n",
    "import glob\n",
    "import os\n",
    "import numpy as np\n",
    "import json"
   ]
  },
  {
   "cell_type": "code",
   "execution_count": 2,
   "metadata": {},
   "outputs": [],
   "source": [
    "path = r'./data'\n",
    "all_files = glob.glob(os.path.join(path, \"*.csv\"))\n",
    "df_from_each_file = (pd.read_csv(f) for f in all_files)\n",
    "pd.concat(df_from_each_file, ignore_index=True).to_csv('./data/merged.csv', index=False)"
   ]
  },
  {
   "cell_type": "code",
   "execution_count": 3,
   "metadata": {},
   "outputs": [],
   "source": [
    "df = pd.read_csv('./data/merged.csv')"
   ]
  },
  {
   "cell_type": "code",
   "execution_count": 4,
   "metadata": {},
   "outputs": [
    {
     "data": {
      "text/plain": [
       "Index(['backers_count', 'blurb', 'category', 'converted_pledged_amount',\n",
       "       'country', 'created_at', 'creator', 'currency', 'currency_symbol',\n",
       "       'currency_trailing_code', 'current_currency', 'deadline',\n",
       "       'disable_communication', 'friends', 'fx_rate', 'goal', 'id',\n",
       "       'is_backing', 'is_starrable', 'is_starred', 'launched_at', 'location',\n",
       "       'name', 'permissions', 'photo', 'pledged', 'profile', 'slug',\n",
       "       'source_url', 'spotlight', 'staff_pick', 'state', 'state_changed_at',\n",
       "       'static_usd_rate', 'urls', 'usd_pledged', 'usd_type'],\n",
       "      dtype='object')"
      ]
     },
     "execution_count": 4,
     "metadata": {},
     "output_type": "execute_result"
    }
   ],
   "source": [
    "df.columns"
   ]
  },
  {
   "cell_type": "code",
   "execution_count": 5,
   "metadata": {},
   "outputs": [
    {
     "name": "stdout",
     "output_type": "stream",
     "text": [
      "{\"id\":266,\"name\":\"Footwear\",\"slug\":\"fashion/footwear\",\"position\":5,\"parent_id\":9,\"color\":16752598,\"urls\":{\"web\":{\"discover\":\"http://www.kickstarter.com/discover/categories/fashion/footwear\"}}}\n",
      "{\"id\":2462429,\"name\":\"Novato\",\"slug\":\"novato-ca\",\"short_name\":\"Novato, CA\",\"displayable_name\":\"Novato, CA\",\"localized_name\":\"Novato\",\"country\":\"US\",\"state\":\"CA\",\"type\":\"Town\",\"is_root\":false,\"urls\":{\"web\":{\"discover\":\"https://www.kickstarter.com/discover/places/novato-ca\",\"location\":\"https://www.kickstarter.com/locations/novato-ca\"},\"api\":{\"nearby_projects\":\"https://api.kickstarter.com/v1/discover?signature=1552595066.49b64db66a5124f5831752d055cd09aff20cc652&woe_id=2462429\"}}}\n",
      "{\"id\":3508024,\"project_id\":3508024,\"state\":\"inactive\",\"state_changed_at\":1541459205,\"name\":null,\"blurb\":null,\"background_color\":null,\"text_color\":null,\"link_background_color\":null,\"link_text_color\":null,\"link_text\":null,\"link_url\":null,\"show_feature_image\":false,\"background_image_opacity\":0.8,\"should_show_feature_image_section\":true,\"feature_image_attributes\":{\"image_urls\":{\"default\":\"https://ksr-ugc.imgix.net/assets/023/667/205/a565fde5382d6b53276597bcbf505af7_original.jpg?ixlib=rb-1.1.0&crop=faces&w=1552&h=873&fit=crop&v=1546238810&auto=format&frame=1&q=92&s=4faccb2ba6fae37a2d990e8471669753\",\"baseball_card\":\"https://ksr-ugc.imgix.net/assets/023/667/205/a565fde5382d6b53276597bcbf505af7_original.jpg?ixlib=rb-1.1.0&crop=faces&w=560&h=315&fit=crop&v=1546238810&auto=format&frame=1&q=92&s=53798a47ff4e37129dfd4d11827fa5c4\"}}}\n",
      "{\"web\":{\"project\":\"https://www.kickstarter.com/projects/babalus/babalus-childrens-shoes?ref=discovery_category_newest\",\"rewards\":\"https://www.kickstarter.com/projects/babalus/babalus-childrens-shoes/rewards\"}}\n"
     ]
    }
   ],
   "source": [
    "df_json_col = df[['category', 'location',  'profile', 'urls']]\n",
    "\n",
    "for col in df_json_col.columns:\n",
    "    print(df[col][0])"
   ]
  },
  {
   "cell_type": "code",
   "execution_count": 6,
   "metadata": {},
   "outputs": [],
   "source": [
    "remove = ['id', 'permissions', 'location', 'photo', 'disable_communication',\n",
    "       'source_url',  'creator', 'friends', 'profile', 'urls', 'is_backing', 'is_starrable', 'is_starred',\n",
    "        'usd_type', 'static_usd_rate', 'currency_symbol','currency_trailing_code', 'current_currency', 'fx_rate']"
   ]
  },
  {
   "cell_type": "code",
   "execution_count": 7,
   "metadata": {},
   "outputs": [],
   "source": [
    "df.drop(remove, axis=1, inplace=True)"
   ]
  },
  {
   "cell_type": "code",
   "execution_count": 8,
   "metadata": {},
   "outputs": [],
   "source": [
    "categories = df['category'].apply(json.loads)\n",
    "\n",
    "df['category_name'] = categories.apply(lambda x: x['name'])\n",
    "df['category_slug'] = categories.apply(lambda x: x['slug'])"
   ]
  },
  {
   "cell_type": "code",
   "execution_count": 9,
   "metadata": {},
   "outputs": [],
   "source": [
    "df.drop(['category'], axis=1, inplace=True)"
   ]
  },
  {
   "cell_type": "code",
   "execution_count": 10,
   "metadata": {},
   "outputs": [
    {
     "name": "stdout",
     "output_type": "stream",
     "text": [
      "<class 'pandas.core.frame.DataFrame'>\n",
      "RangeIndex: 209222 entries, 0 to 209221\n",
      "Data columns (total 19 columns):\n",
      " #   Column                    Non-Null Count   Dtype  \n",
      "---  ------                    --------------   -----  \n",
      " 0   backers_count             209222 non-null  int64  \n",
      " 1   blurb                     209214 non-null  object \n",
      " 2   converted_pledged_amount  209222 non-null  int64  \n",
      " 3   country                   209222 non-null  object \n",
      " 4   created_at                209222 non-null  int64  \n",
      " 5   currency                  209222 non-null  object \n",
      " 6   deadline                  209222 non-null  int64  \n",
      " 7   goal                      209222 non-null  float64\n",
      " 8   launched_at               209222 non-null  int64  \n",
      " 9   name                      209222 non-null  object \n",
      " 10  pledged                   209222 non-null  float64\n",
      " 11  slug                      209222 non-null  object \n",
      " 12  spotlight                 209222 non-null  bool   \n",
      " 13  staff_pick                209222 non-null  bool   \n",
      " 14  state                     209222 non-null  object \n",
      " 15  state_changed_at          209222 non-null  int64  \n",
      " 16  usd_pledged               209222 non-null  float64\n",
      " 17  category_name             209222 non-null  object \n",
      " 18  category_slug             209222 non-null  object \n",
      "dtypes: bool(2), float64(3), int64(6), object(8)\n",
      "memory usage: 27.5+ MB\n"
     ]
    }
   ],
   "source": [
    "df.info()"
   ]
  },
  {
   "cell_type": "code",
   "execution_count": 11,
   "metadata": {},
   "outputs": [],
   "source": [
    "# Save the dataframe as a csv file\n",
    "\n",
    "df.to_csv('./data/procesed.csv',index=False)"
   ]
  },
  {
   "cell_type": "code",
   "execution_count": 12,
   "metadata": {},
   "outputs": [],
   "source": [
    "dtypes = {\n",
    "    'backers_count': 'int64',\n",
    "    'blurb': 'str',\n",
    "    'category': 'str',\n",
    "    'country': 'str',\n",
    "    'goal': 'float64',\n",
    "    'name': 'str',\n",
    "    'pledged': 'float64',\n",
    "    'spotlight': 'bool',\n",
    "    'staff_pick': 'bool',\n",
    "    'state': 'str',\n",
    "    'usd_pledged': 'float64',\n",
    "    'category_name': 'str',\n",
    "    'category_slug': 'str',\n",
    "}"
   ]
  },
  {
   "cell_type": "code",
   "execution_count": 13,
   "metadata": {},
   "outputs": [],
   "source": [
    "df = pd.read_csv('./data/procesed.csv', dtype=dtypes)"
   ]
  },
  {
   "cell_type": "code",
   "execution_count": 14,
   "metadata": {},
   "outputs": [
    {
     "name": "stdout",
     "output_type": "stream",
     "text": [
      "<class 'pandas.core.frame.DataFrame'>\n",
      "RangeIndex: 209222 entries, 0 to 209221\n",
      "Data columns (total 19 columns):\n",
      " #   Column                    Non-Null Count   Dtype  \n",
      "---  ------                    --------------   -----  \n",
      " 0   backers_count             209222 non-null  int64  \n",
      " 1   blurb                     209214 non-null  object \n",
      " 2   converted_pledged_amount  209222 non-null  int64  \n",
      " 3   country                   209222 non-null  object \n",
      " 4   created_at                209222 non-null  int64  \n",
      " 5   currency                  209222 non-null  object \n",
      " 6   deadline                  209222 non-null  int64  \n",
      " 7   goal                      209222 non-null  float64\n",
      " 8   launched_at               209222 non-null  int64  \n",
      " 9   name                      209222 non-null  object \n",
      " 10  pledged                   209222 non-null  float64\n",
      " 11  slug                      209222 non-null  object \n",
      " 12  spotlight                 209222 non-null  bool   \n",
      " 13  staff_pick                209222 non-null  bool   \n",
      " 14  state                     209222 non-null  object \n",
      " 15  state_changed_at          209222 non-null  int64  \n",
      " 16  usd_pledged               209222 non-null  float64\n",
      " 17  category_name             209222 non-null  object \n",
      " 18  category_slug             209222 non-null  object \n",
      "dtypes: bool(2), float64(3), int64(6), object(8)\n",
      "memory usage: 27.5+ MB\n"
     ]
    }
   ],
   "source": [
    "df.info()"
   ]
  },
  {
   "cell_type": "code",
   "execution_count": 15,
   "metadata": {},
   "outputs": [],
   "source": [
    "# convert date columns to datetime iso format \n",
    "df['deadline'] = pd.to_datetime(df['deadline'], unit='s')\n",
    "df['launched_at'] = pd.to_datetime(df['launched_at'], unit='s')\n",
    "df['created_at'] = pd.to_datetime(df['created_at'], unit='s')\n",
    "df['state_changed_at'] = pd.to_datetime(df['state_changed_at'], unit='s')"
   ]
  },
  {
   "cell_type": "code",
   "execution_count": 16,
   "metadata": {},
   "outputs": [],
   "source": [
    "# convert to category\n",
    "df['category_name'] = df['category_name'].astype('category')\n",
    "df['category_slug'] = df['category_slug'].astype('category')\n",
    "df['state'] = df['state'].astype('category')\n",
    "df['country'] = df['country'].astype('category')"
   ]
  },
  {
   "cell_type": "code",
   "execution_count": 17,
   "metadata": {},
   "outputs": [],
   "source": [
    "# convert to string\n",
    "df['blurb'] = df['blurb'].astype('str')\n",
    "df['name'] = df['name'].astype('str')"
   ]
  },
  {
   "cell_type": "code",
   "execution_count": 18,
   "metadata": {},
   "outputs": [],
   "source": [
    "# convert to boolean\n",
    "df['spotlight'] = df['spotlight'].astype('bool')\n",
    "df['staff_pick'] = df['staff_pick'].astype('bool')\n"
   ]
  },
  {
   "cell_type": "code",
   "execution_count": 19,
   "metadata": {},
   "outputs": [],
   "source": [
    "# save the dataframe as a csv file\n",
    "df.to_csv('data.csv',index=False)"
   ]
  }
 ],
 "metadata": {
  "kernelspec": {
   "display_name": "Python 3",
   "language": "python",
   "name": "python3"
  },
  "language_info": {
   "codemirror_mode": {
    "name": "ipython",
    "version": 3
   },
   "file_extension": ".py",
   "mimetype": "text/x-python",
   "name": "python",
   "nbconvert_exporter": "python",
   "pygments_lexer": "ipython3",
   "version": "3.9.6"
  }
 },
 "nbformat": 4,
 "nbformat_minor": 2
}
