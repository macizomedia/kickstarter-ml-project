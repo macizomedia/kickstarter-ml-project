{
 "cells": [
  {
   "cell_type": "code",
   "execution_count": 1,
   "metadata": {},
   "outputs": [],
   "source": [
    "import pandas as pd\n",
    "import numpy as np\n",
    "import matplotlib.pyplot as plt\n",
    "import seaborn as sns\n",
    "\n",
    "\n",
    "\n",
    "from sklearn.preprocessing import LabelEncoder, StandardScaler\n",
    "from sklearn.preprocessing import OneHotEncoder, StandardScaler\n",
    "from sklearn.impute import SimpleImputer\n",
    "from sklearn.model_selection import train_test_split, cross_val_score, GridSearchCV\n",
    "from sklearn.metrics import accuracy_score, confusion_matrix, classification_report, roc_auc_score, roc_curve\n",
    "from sklearn.linear_model import LogisticRegression\n",
    "from sklearn.neighbors import KNeighborsClassifier\n",
    "from sklearn.ensemble import RandomForestClassifier, GradientBoostingClassifier, AdaBoostClassifier\n",
    "from sklearn.svm import SVC\n",
    "from sklearn.tree import DecisionTreeClassifier\n",
    "#from xgboost import XGBClassifier\n",
    "from sklearn.pipeline import Pipeline\n",
    "from sklearn.tree import plot_tree\n",
    "from sklearn.model_selection import cross_val_predict\n",
    "from sklearn.metrics import accuracy_score, recall_score, precision_score\n",
    "\n",
    "\n",
    "RSEED=42"
   ]
  },
  {
   "cell_type": "code",
   "execution_count": 2,
   "metadata": {},
   "outputs": [],
   "source": [
    "df = pd.read_csv('/Users/annelahann/neue-fische/kickstarter-ml-project/data/data_clean.csv')"
   ]
  },
  {
   "cell_type": "code",
   "execution_count": 3,
   "metadata": {},
   "outputs": [
    {
     "name": "stdout",
     "output_type": "stream",
     "text": [
      "<class 'pandas.core.frame.DataFrame'>\n",
      "RangeIndex: 177522 entries, 0 to 177521\n",
      "Data columns (total 15 columns):\n",
      " #   Column             Non-Null Count   Dtype  \n",
      "---  ------             --------------   -----  \n",
      " 0   blurb              177514 non-null  object \n",
      " 1   country            177522 non-null  object \n",
      " 2   goal               177522 non-null  float64\n",
      " 3   name               177522 non-null  object \n",
      " 4   state              177522 non-null  object \n",
      " 5   main_category      177522 non-null  object \n",
      " 6   sub_category       177522 non-null  object \n",
      " 7   location_type      177522 non-null  object \n",
      " 8   duration           177522 non-null  int64  \n",
      " 9   deadline_month     177522 non-null  int64  \n",
      " 10  deadline_day       177522 non-null  int64  \n",
      " 11  launched_at_month  177522 non-null  object \n",
      " 12  launched_at_day    177522 non-null  object \n",
      " 13  target             177522 non-null  int64  \n",
      " 14  baseline           177522 non-null  int64  \n",
      "dtypes: float64(1), int64(5), object(9)\n",
      "memory usage: 20.3+ MB\n"
     ]
    }
   ],
   "source": [
    "df[['launched_at_day','launched_at_month']]=df[['launched_at_day','launched_at_month']].astype(object)\n",
    "df.info()"
   ]
  },
  {
   "cell_type": "code",
   "execution_count": 4,
   "metadata": {},
   "outputs": [
    {
     "name": "stdout",
     "output_type": "stream",
     "text": [
      "We have 177522 observations in our dataset and 7 features\n",
      "Our target vector has also 177522 values\n"
     ]
    }
   ],
   "source": [
    "# Define predictors and target variable\n",
    "X = df[['main_category','location_type','duration','goal','country','launched_at_month','launched_at_day']]\n",
    "y = df['target']\n",
    "print(f\"We have {X.shape[0]} observations in our dataset and {X.shape[1]} features\")\n",
    "print(f\"Our target vector has also {y.shape[0]} values\")"
   ]
  },
  {
   "cell_type": "code",
   "execution_count": 5,
   "metadata": {},
   "outputs": [
    {
     "data": {
      "text/plain": [
       "['main_category',\n",
       " 'location_type',\n",
       " 'country',\n",
       " 'launched_at_month',\n",
       " 'launched_at_day']"
      ]
     },
     "execution_count": 5,
     "metadata": {},
     "output_type": "execute_result"
    }
   ],
   "source": [
    "# Creating list for categorical predictors/features \n",
    "# (dates are also objects so if you have them in your data you would deal with them first)\n",
    "cat_features = list(X.columns[X.dtypes==object])\n",
    "cat_features"
   ]
  },
  {
   "cell_type": "code",
   "execution_count": 6,
   "metadata": {},
   "outputs": [
    {
     "data": {
      "text/plain": [
       "['duration', 'goal']"
      ]
     },
     "execution_count": 6,
     "metadata": {},
     "output_type": "execute_result"
    }
   ],
   "source": [
    "# Creating list for numerical predictors/features\n",
    "# Since 'Survived' is our target variable we will exclude this feature from this list of numerical predictors \n",
    "num_features = list(X.columns[X.dtypes!=object])\n",
    "num_features"
   ]
  },
  {
   "cell_type": "code",
   "execution_count": 7,
   "metadata": {},
   "outputs": [],
   "source": [
    "# Split into train and test set \n",
    "X_train, X_test, y_train, y_test = train_test_split(X, y, test_size=0.2, random_state=RSEED)"
   ]
  },
  {
   "cell_type": "code",
   "execution_count": 8,
   "metadata": {},
   "outputs": [
    {
     "name": "stdout",
     "output_type": "stream",
     "text": [
      "X_train shape: (142017, 7)\n",
      "X_test shape: (35505, 7)\n",
      "y_train shape: (142017,)\n",
      "y_test shape: (35505,)\n"
     ]
    }
   ],
   "source": [
    "print('X_train shape:', X_train.shape)\n",
    "print('X_test shape:', X_test.shape)\n",
    "print('y_train shape:', y_train.shape)\n",
    "print('y_test shape:', y_test.shape)"
   ]
  },
  {
   "cell_type": "code",
   "execution_count": 9,
   "metadata": {},
   "outputs": [
    {
     "name": "stderr",
     "output_type": "stream",
     "text": [
      "/var/folders/gy/s0brt3g17ygf5d5lkdv4mtqc0000gn/T/ipykernel_1109/2551771872.py:2: SettingWithCopyWarning: \n",
      "A value is trying to be set on a copy of a slice from a DataFrame.\n",
      "Try using .loc[row_indexer,col_indexer] = value instead\n",
      "\n",
      "See the caveats in the documentation: https://pandas.pydata.org/pandas-docs/stable/user_guide/indexing.html#returning-a-view-versus-a-copy\n",
      "  X['goal'] = np.log(X['goal'])\n"
     ]
    }
   ],
   "source": [
    "X.describe()\n",
    "X['goal'] = np.log(X['goal'])"
   ]
  },
  {
   "cell_type": "code",
   "execution_count": 10,
   "metadata": {},
   "outputs": [],
   "source": [
    "from sklearn.pipeline import Pipeline\n",
    "\n",
    "# Pipeline for numerical features\n",
    "# Initiating Pipeline and calling one step after another\n",
    "# each step is built as a list of (key, value)\n",
    "# key is the name of the processing step\n",
    "# value is an estimator object (processing step)\n",
    "num_pipeline = Pipeline([\n",
    "    ('imputer_num', SimpleImputer(strategy='median')),\n",
    "    ('std_scaler', StandardScaler())\n",
    "])\n",
    "\n",
    "# Pipeline for categorical features \n",
    "cat_pipeline = Pipeline([\n",
    "    ('imputer_cat', SimpleImputer(strategy='constant', fill_value='missing')),\n",
    "    ('1hot', OneHotEncoder(handle_unknown='ignore'))\n",
    "])"
   ]
  },
  {
   "cell_type": "code",
   "execution_count": 11,
   "metadata": {},
   "outputs": [],
   "source": [
    "from sklearn.compose import ColumnTransformer\n",
    "\n",
    "# Complete pipeline for numerical and categorical features\n",
    "# 'ColumnTransformer' applies transformers (num_pipeline/ cat_pipeline)\n",
    "# to specific columns of an array or DataFrame (num_features/cat_features)\n",
    "preprocessor = ColumnTransformer([\n",
    "    ('num', num_pipeline, num_features),\n",
    "    ('cat', cat_pipeline, cat_features)\n",
    "])"
   ]
  },
  {
   "cell_type": "code",
   "execution_count": 26,
   "metadata": {},
   "outputs": [
    {
     "name": "stdout",
     "output_type": "stream",
     "text": [
      "ColumnTransformer(transformers=[('num',\n",
      "                                 Pipeline(steps=[('imputer_num',\n",
      "                                                  SimpleImputer(strategy='median')),\n",
      "                                                 ('std_scaler',\n",
      "                                                  StandardScaler())]),\n",
      "                                 ['duration', 'goal']),\n",
      "                                ('cat',\n",
      "                                 Pipeline(steps=[('imputer_cat',\n",
      "                                                  SimpleImputer(fill_value='missing',\n",
      "                                                                strategy='constant')),\n",
      "                                                 ('1hot',\n",
      "                                                  OneHotEncoder(handle_unknown='ignore'))]),\n",
      "                                 ['main_category', 'location_type', 'country',\n",
      "                                  'launched_at_month', 'launched_at_day'])])\n"
     ]
    }
   ],
   "source": [
    "data_prep=preprocessor = ColumnTransformer([\n",
    "    ('num', num_pipeline, num_features),\n",
    "    ('cat', cat_pipeline, cat_features)\n",
    "])\n",
    "print(data_prep)"
   ]
  },
  {
   "cell_type": "code",
   "execution_count": null,
   "metadata": {},
   "outputs": [],
   "source": [
    "dectr1=DecisionTreeClassifier(max_depth=10)"
   ]
  },
  {
   "cell_type": "code",
   "execution_count": 19,
   "metadata": {},
   "outputs": [],
   "source": [
    "# Building a full pipeline with our preprocessor and a LogisticRegression Classifier\n",
    "pipe_dectr = Pipeline([\n",
    "    ('preprocessor', preprocessor),\n",
    "    ('dectr', DecisionTreeClassifier())\n",
    "])\n",
    "  \n"
   ]
  },
  {
   "cell_type": "code",
   "execution_count": 20,
   "metadata": {},
   "outputs": [],
   "source": [
    "# Making predictions on the training set using cross validation as well as calculating the probabilities\n",
    "# cross_val_predict expects an estimator (model), X, y and nr of cv-splits (cv)\n",
    "y_train_predicted = cross_val_predict(pipe_dectr, X_train, y_train, cv=5)\n",
    "y_test_predicted = cross_val_predict(pipe_dectr, X_test, y_test, cv=5)"
   ]
  },
  {
   "cell_type": "code",
   "execution_count": 21,
   "metadata": {},
   "outputs": [
    {
     "name": "stdout",
     "output_type": "stream",
     "text": [
      "Cross validation scores:\n",
      "-------------------------\n",
      "Accuracy: 0.5966\n",
      "Recall: 0.6131\n",
      "Precision: 0.6230\n",
      "[[38389 28040]\n",
      " [29248 46340]]\n",
      "Accuracy: 0.5912\n",
      "Recall: 0.6104\n",
      "Precision: 0.6150\n",
      "[[ 9506  7188]\n",
      " [ 7328 11483]]\n"
     ]
    }
   ],
   "source": [
    "# Calculating the accuracy for the LogisticRegression Classifier \n",
    "print('Cross validation scores:')\n",
    "print('-------------------------')\n",
    "print(\"Accuracy: {:.4f}\".format(accuracy_score(y_train, y_train_predicted)))\n",
    "print(\"Recall: {:.4f}\".format(recall_score(y_train, y_train_predicted)))\n",
    "print(\"Precision: {:.4f}\".format(precision_score(y_train, y_train_predicted)))\n",
    "print(confusion_matrix(y_train, y_train_predicted))\n",
    "\n",
    "print(\"Accuracy: {:.4f}\".format(accuracy_score(y_test, y_test_predicted)))\n",
    "print(\"Recall: {:.4f}\".format(recall_score(y_test, y_test_predicted)))\n",
    "print(\"Precision: {:.4f}\".format(precision_score(y_test, y_test_predicted)))\n",
    "print(confusion_matrix(y_test, y_test_predicted))\n"
   ]
  },
  {
   "cell_type": "code",
   "execution_count": 34,
   "metadata": {},
   "outputs": [],
   "source": [
    "# Defining parameter space for grid-search. Since we want to access the classifier step (called 'logreg') in our pipeline \n",
    "# we have to add 'logreg__' in front of the corresponding hyperparameters. \n",
    "param_dectr = {'dectr__criterion':('gini','entropy'),\n",
    "                'dectr__max_depth': [5, 10, 20],\n",
    "                'dectr__max_features': ['auto', 'sqrt']\n",
    "               }\n",
    "\n",
    "grid_dectr = GridSearchCV(pipe_dectr, param_grid=param_dectr, cv=5, scoring='accuracy', \n",
    "                           verbose=5, n_jobs=-1)"
   ]
  },
  {
   "cell_type": "code",
   "execution_count": 35,
   "metadata": {},
   "outputs": [
    {
     "name": "stdout",
     "output_type": "stream",
     "text": [
      "Fitting 5 folds for each of 12 candidates, totalling 60 fits\n"
     ]
    },
    {
     "name": "stderr",
     "output_type": "stream",
     "text": [
      "/Users/annelahann/neue-fische/kickstarter-ml-project/.venv/lib/python3.11/site-packages/sklearn/tree/_classes.py:269: FutureWarning: `max_features='auto'` has been deprecated in 1.1 and will be removed in 1.3. To keep the past behaviour, explicitly set `max_features='sqrt'`.\n",
      "  warnings.warn(\n",
      "/Users/annelahann/neue-fische/kickstarter-ml-project/.venv/lib/python3.11/site-packages/sklearn/tree/_classes.py:269: FutureWarning: `max_features='auto'` has been deprecated in 1.1 and will be removed in 1.3. To keep the past behaviour, explicitly set `max_features='sqrt'`.\n",
      "  warnings.warn(\n",
      "/Users/annelahann/neue-fische/kickstarter-ml-project/.venv/lib/python3.11/site-packages/sklearn/tree/_classes.py:269: FutureWarning: `max_features='auto'` has been deprecated in 1.1 and will be removed in 1.3. To keep the past behaviour, explicitly set `max_features='sqrt'`.\n",
      "  warnings.warn(\n",
      "/Users/annelahann/neue-fische/kickstarter-ml-project/.venv/lib/python3.11/site-packages/sklearn/tree/_classes.py:269: FutureWarning: `max_features='auto'` has been deprecated in 1.1 and will be removed in 1.3. To keep the past behaviour, explicitly set `max_features='sqrt'`.\n",
      "  warnings.warn(\n",
      "/Users/annelahann/neue-fische/kickstarter-ml-project/.venv/lib/python3.11/site-packages/sklearn/tree/_classes.py:269: FutureWarning: `max_features='auto'` has been deprecated in 1.1 and will be removed in 1.3. To keep the past behaviour, explicitly set `max_features='sqrt'`.\n",
      "  warnings.warn(\n"
     ]
    },
    {
     "name": "stdout",
     "output_type": "stream",
     "text": [
      "[CV 1/5] END dectr__criterion=gini, dectr__max_depth=5, dectr__max_features=auto;, score=0.556 total time=   0.3s\n",
      "[CV 2/5] END dectr__criterion=gini, dectr__max_depth=5, dectr__max_features=auto;, score=0.578 total time=   0.3s\n",
      "[CV 3/5] END dectr__criterion=gini, dectr__max_depth=5, dectr__max_features=auto;, score=0.588 total time=   0.3s\n",
      "[CV 4/5] END dectr__criterion=gini, dectr__max_depth=5, dectr__max_features=auto;, score=0.631 total time=   0.3s\n",
      "[CV 5/5] END dectr__criterion=gini, dectr__max_depth=5, dectr__max_features=auto;, score=0.628 total time=   0.3s\n",
      "[CV 1/5] END dectr__criterion=gini, dectr__max_depth=5, dectr__max_features=sqrt;, score=0.573 total time=   0.3s\n",
      "[CV 2/5] END dectr__criterion=gini, dectr__max_depth=5, dectr__max_features=sqrt;, score=0.609 total time=   0.3s\n",
      "[CV 3/5] END dectr__criterion=gini, dectr__max_depth=5, dectr__max_features=sqrt;, score=0.570 total time=   0.3s\n",
      "[CV 4/5] END dectr__criterion=gini, dectr__max_depth=5, dectr__max_features=sqrt;, score=0.630 total time=   0.3s\n",
      "[CV 5/5] END dectr__criterion=gini, dectr__max_depth=5, dectr__max_features=sqrt;, score=0.585 total time=   0.3s\n",
      "[CV 1/5] END dectr__criterion=gini, dectr__max_depth=10, dectr__max_features=auto;, score=0.641 total time=   0.3s\n",
      "[CV 2/5] END dectr__criterion=gini, dectr__max_depth=10, dectr__max_features=auto;, score=0.625 total time=   0.3s\n",
      "[CV 3/5] END dectr__criterion=gini, dectr__max_depth=10, dectr__max_features=auto;, score=0.632 total time=   0.4s\n"
     ]
    },
    {
     "name": "stderr",
     "output_type": "stream",
     "text": [
      "/Users/annelahann/neue-fische/kickstarter-ml-project/.venv/lib/python3.11/site-packages/sklearn/tree/_classes.py:269: FutureWarning: `max_features='auto'` has been deprecated in 1.1 and will be removed in 1.3. To keep the past behaviour, explicitly set `max_features='sqrt'`.\n",
      "  warnings.warn(\n",
      "/Users/annelahann/neue-fische/kickstarter-ml-project/.venv/lib/python3.11/site-packages/sklearn/tree/_classes.py:269: FutureWarning: `max_features='auto'` has been deprecated in 1.1 and will be removed in 1.3. To keep the past behaviour, explicitly set `max_features='sqrt'`.\n",
      "  warnings.warn(\n",
      "/Users/annelahann/neue-fische/kickstarter-ml-project/.venv/lib/python3.11/site-packages/sklearn/tree/_classes.py:269: FutureWarning: `max_features='auto'` has been deprecated in 1.1 and will be removed in 1.3. To keep the past behaviour, explicitly set `max_features='sqrt'`.\n",
      "  warnings.warn(\n",
      "/Users/annelahann/neue-fische/kickstarter-ml-project/.venv/lib/python3.11/site-packages/sklearn/tree/_classes.py:269: FutureWarning: `max_features='auto'` has been deprecated in 1.1 and will be removed in 1.3. To keep the past behaviour, explicitly set `max_features='sqrt'`.\n",
      "  warnings.warn(\n",
      "/Users/annelahann/neue-fische/kickstarter-ml-project/.venv/lib/python3.11/site-packages/sklearn/tree/_classes.py:269: FutureWarning: `max_features='auto'` has been deprecated in 1.1 and will be removed in 1.3. To keep the past behaviour, explicitly set `max_features='sqrt'`.\n",
      "  warnings.warn(\n"
     ]
    },
    {
     "name": "stdout",
     "output_type": "stream",
     "text": [
      "[CV 5/5] END dectr__criterion=gini, dectr__max_depth=10, dectr__max_features=auto;, score=0.635 total time=   0.3s\n",
      "[CV 4/5] END dectr__criterion=gini, dectr__max_depth=10, dectr__max_features=auto;, score=0.627 total time=   0.4s\n",
      "[CV 1/5] END dectr__criterion=gini, dectr__max_depth=10, dectr__max_features=sqrt;, score=0.633 total time=   0.3s\n",
      "[CV 2/5] END dectr__criterion=gini, dectr__max_depth=10, dectr__max_features=sqrt;, score=0.579 total time=   0.4s\n",
      "[CV 3/5] END dectr__criterion=gini, dectr__max_depth=10, dectr__max_features=sqrt;, score=0.627 total time=   0.4s\n"
     ]
    },
    {
     "name": "stderr",
     "output_type": "stream",
     "text": [
      "/Users/annelahann/neue-fische/kickstarter-ml-project/.venv/lib/python3.11/site-packages/sklearn/tree/_classes.py:269: FutureWarning: `max_features='auto'` has been deprecated in 1.1 and will be removed in 1.3. To keep the past behaviour, explicitly set `max_features='sqrt'`.\n",
      "  warnings.warn(\n",
      "/Users/annelahann/neue-fische/kickstarter-ml-project/.venv/lib/python3.11/site-packages/sklearn/tree/_classes.py:269: FutureWarning: `max_features='auto'` has been deprecated in 1.1 and will be removed in 1.3. To keep the past behaviour, explicitly set `max_features='sqrt'`.\n",
      "  warnings.warn(\n",
      "/Users/annelahann/neue-fische/kickstarter-ml-project/.venv/lib/python3.11/site-packages/sklearn/tree/_classes.py:269: FutureWarning: `max_features='auto'` has been deprecated in 1.1 and will be removed in 1.3. To keep the past behaviour, explicitly set `max_features='sqrt'`.\n",
      "  warnings.warn(\n",
      "/Users/annelahann/neue-fische/kickstarter-ml-project/.venv/lib/python3.11/site-packages/sklearn/tree/_classes.py:269: FutureWarning: `max_features='auto'` has been deprecated in 1.1 and will be removed in 1.3. To keep the past behaviour, explicitly set `max_features='sqrt'`.\n",
      "  warnings.warn(\n"
     ]
    },
    {
     "name": "stdout",
     "output_type": "stream",
     "text": [
      "[CV 4/5] END dectr__criterion=gini, dectr__max_depth=10, dectr__max_features=sqrt;, score=0.623 total time=   0.3s\n",
      "[CV 5/5] END dectr__criterion=gini, dectr__max_depth=10, dectr__max_features=sqrt;, score=0.630 total time=   0.3s\n"
     ]
    },
    {
     "name": "stderr",
     "output_type": "stream",
     "text": [
      "/Users/annelahann/neue-fische/kickstarter-ml-project/.venv/lib/python3.11/site-packages/sklearn/tree/_classes.py:269: FutureWarning: `max_features='auto'` has been deprecated in 1.1 and will be removed in 1.3. To keep the past behaviour, explicitly set `max_features='sqrt'`.\n",
      "  warnings.warn(\n"
     ]
    },
    {
     "name": "stdout",
     "output_type": "stream",
     "text": [
      "[CV 3/5] END dectr__criterion=gini, dectr__max_depth=20, dectr__max_features=auto;, score=0.652 total time=   0.8s\n",
      "[CV 2/5] END dectr__criterion=gini, dectr__max_depth=20, dectr__max_features=auto;, score=0.647 total time=   0.8s\n",
      "[CV 4/5] END dectr__criterion=gini, dectr__max_depth=20, dectr__max_features=auto;, score=0.641 total time=   0.8s\n",
      "[CV 1/5] END dectr__criterion=gini, dectr__max_depth=20, dectr__max_features=auto;, score=0.640 total time=   0.9s\n",
      "[CV 1/5] END dectr__criterion=gini, dectr__max_depth=20, dectr__max_features=sqrt;, score=0.652 total time=   0.7s\n",
      "[CV 5/5] END dectr__criterion=gini, dectr__max_depth=20, dectr__max_features=auto;, score=0.653 total time=   0.8s\n",
      "[CV 3/5] END dectr__criterion=gini, dectr__max_depth=20, dectr__max_features=sqrt;, score=0.642 total time=   0.8s\n",
      "[CV 2/5] END dectr__criterion=gini, dectr__max_depth=20, dectr__max_features=sqrt;, score=0.649 total time=   0.8s\n",
      "[CV 1/5] END dectr__criterion=entropy, dectr__max_depth=5, dectr__max_features=auto;, score=0.570 total time=   0.3s\n",
      "[CV 2/5] END dectr__criterion=entropy, dectr__max_depth=5, dectr__max_features=auto;, score=0.541 total time=   0.3s\n"
     ]
    },
    {
     "name": "stderr",
     "output_type": "stream",
     "text": [
      "/Users/annelahann/neue-fische/kickstarter-ml-project/.venv/lib/python3.11/site-packages/sklearn/tree/_classes.py:269: FutureWarning: `max_features='auto'` has been deprecated in 1.1 and will be removed in 1.3. To keep the past behaviour, explicitly set `max_features='sqrt'`.\n",
      "  warnings.warn(\n",
      "/Users/annelahann/neue-fische/kickstarter-ml-project/.venv/lib/python3.11/site-packages/sklearn/tree/_classes.py:269: FutureWarning: `max_features='auto'` has been deprecated in 1.1 and will be removed in 1.3. To keep the past behaviour, explicitly set `max_features='sqrt'`.\n",
      "  warnings.warn(\n",
      "/Users/annelahann/neue-fische/kickstarter-ml-project/.venv/lib/python3.11/site-packages/sklearn/tree/_classes.py:269: FutureWarning: `max_features='auto'` has been deprecated in 1.1 and will be removed in 1.3. To keep the past behaviour, explicitly set `max_features='sqrt'`.\n",
      "  warnings.warn(\n",
      "/Users/annelahann/neue-fische/kickstarter-ml-project/.venv/lib/python3.11/site-packages/sklearn/tree/_classes.py:269: FutureWarning: `max_features='auto'` has been deprecated in 1.1 and will be removed in 1.3. To keep the past behaviour, explicitly set `max_features='sqrt'`.\n",
      "  warnings.warn(\n"
     ]
    },
    {
     "name": "stdout",
     "output_type": "stream",
     "text": [
      "[CV 3/5] END dectr__criterion=entropy, dectr__max_depth=5, dectr__max_features=auto;, score=0.570 total time=   0.3s\n",
      "[CV 4/5] END dectr__criterion=entropy, dectr__max_depth=5, dectr__max_features=auto;, score=0.555 total time=   0.3s\n",
      "[CV 5/5] END dectr__criterion=entropy, dectr__max_depth=5, dectr__max_features=auto;, score=0.637 total time=   0.3s\n"
     ]
    },
    {
     "name": "stderr",
     "output_type": "stream",
     "text": [
      "/Users/annelahann/neue-fische/kickstarter-ml-project/.venv/lib/python3.11/site-packages/sklearn/tree/_classes.py:269: FutureWarning: `max_features='auto'` has been deprecated in 1.1 and will be removed in 1.3. To keep the past behaviour, explicitly set `max_features='sqrt'`.\n",
      "  warnings.warn(\n"
     ]
    },
    {
     "name": "stdout",
     "output_type": "stream",
     "text": [
      "[CV 1/5] END dectr__criterion=entropy, dectr__max_depth=5, dectr__max_features=sqrt;, score=0.569 total time=   0.3s\n",
      "[CV 3/5] END dectr__criterion=entropy, dectr__max_depth=5, dectr__max_features=sqrt;, score=0.576 total time=   0.3s\n",
      "[CV 2/5] END dectr__criterion=entropy, dectr__max_depth=5, dectr__max_features=sqrt;, score=0.583 total time=   0.4s\n",
      "[CV 4/5] END dectr__criterion=gini, dectr__max_depth=20, dectr__max_features=sqrt;, score=0.654 total time=   0.8s\n",
      "[CV 5/5] END dectr__criterion=gini, dectr__max_depth=20, dectr__max_features=sqrt;, score=0.650 total time=   0.8s\n",
      "[CV 4/5] END dectr__criterion=entropy, dectr__max_depth=5, dectr__max_features=sqrt;, score=0.625 total time=   0.3s\n",
      "[CV 5/5] END dectr__criterion=entropy, dectr__max_depth=5, dectr__max_features=sqrt;, score=0.605 total time=   0.3s\n"
     ]
    },
    {
     "name": "stderr",
     "output_type": "stream",
     "text": [
      "/Users/annelahann/neue-fische/kickstarter-ml-project/.venv/lib/python3.11/site-packages/sklearn/tree/_classes.py:269: FutureWarning: `max_features='auto'` has been deprecated in 1.1 and will be removed in 1.3. To keep the past behaviour, explicitly set `max_features='sqrt'`.\n",
      "  warnings.warn(\n",
      "/Users/annelahann/neue-fische/kickstarter-ml-project/.venv/lib/python3.11/site-packages/sklearn/tree/_classes.py:269: FutureWarning: `max_features='auto'` has been deprecated in 1.1 and will be removed in 1.3. To keep the past behaviour, explicitly set `max_features='sqrt'`.\n",
      "  warnings.warn(\n",
      "/Users/annelahann/neue-fische/kickstarter-ml-project/.venv/lib/python3.11/site-packages/sklearn/tree/_classes.py:269: FutureWarning: `max_features='auto'` has been deprecated in 1.1 and will be removed in 1.3. To keep the past behaviour, explicitly set `max_features='sqrt'`.\n",
      "  warnings.warn(\n",
      "/Users/annelahann/neue-fische/kickstarter-ml-project/.venv/lib/python3.11/site-packages/sklearn/tree/_classes.py:269: FutureWarning: `max_features='auto'` has been deprecated in 1.1 and will be removed in 1.3. To keep the past behaviour, explicitly set `max_features='sqrt'`.\n",
      "  warnings.warn(\n",
      "/Users/annelahann/neue-fische/kickstarter-ml-project/.venv/lib/python3.11/site-packages/sklearn/tree/_classes.py:269: FutureWarning: `max_features='auto'` has been deprecated in 1.1 and will be removed in 1.3. To keep the past behaviour, explicitly set `max_features='sqrt'`.\n",
      "  warnings.warn(\n"
     ]
    },
    {
     "name": "stdout",
     "output_type": "stream",
     "text": [
      "[CV 2/5] END dectr__criterion=entropy, dectr__max_depth=10, dectr__max_features=auto;, score=0.626 total time=   0.3s\n",
      "[CV 1/5] END dectr__criterion=entropy, dectr__max_depth=10, dectr__max_features=auto;, score=0.629 total time=   0.4s\n",
      "[CV 3/5] END dectr__criterion=entropy, dectr__max_depth=10, dectr__max_features=auto;, score=0.624 total time=   0.3s\n",
      "[CV 4/5] END dectr__criterion=entropy, dectr__max_depth=10, dectr__max_features=auto;, score=0.646 total time=   0.3s\n",
      "[CV 5/5] END dectr__criterion=entropy, dectr__max_depth=10, dectr__max_features=auto;, score=0.604 total time=   0.3s\n",
      "[CV 1/5] END dectr__criterion=entropy, dectr__max_depth=10, dectr__max_features=sqrt;, score=0.640 total time=   0.3s\n",
      "[CV 2/5] END dectr__criterion=entropy, dectr__max_depth=10, dectr__max_features=sqrt;, score=0.642 total time=   0.4s\n",
      "[CV 3/5] END dectr__criterion=entropy, dectr__max_depth=10, dectr__max_features=sqrt;, score=0.638 total time=   0.4s\n",
      "[CV 4/5] END dectr__criterion=entropy, dectr__max_depth=10, dectr__max_features=sqrt;, score=0.611 total time=   0.4s\n",
      "[CV 5/5] END dectr__criterion=entropy, dectr__max_depth=10, dectr__max_features=sqrt;, score=0.645 total time=   0.4s\n"
     ]
    },
    {
     "name": "stderr",
     "output_type": "stream",
     "text": [
      "/Users/annelahann/neue-fische/kickstarter-ml-project/.venv/lib/python3.11/site-packages/sklearn/tree/_classes.py:269: FutureWarning: `max_features='auto'` has been deprecated in 1.1 and will be removed in 1.3. To keep the past behaviour, explicitly set `max_features='sqrt'`.\n",
      "  warnings.warn(\n",
      "/Users/annelahann/neue-fische/kickstarter-ml-project/.venv/lib/python3.11/site-packages/sklearn/tree/_classes.py:269: FutureWarning: `max_features='auto'` has been deprecated in 1.1 and will be removed in 1.3. To keep the past behaviour, explicitly set `max_features='sqrt'`.\n",
      "  warnings.warn(\n",
      "/Users/annelahann/neue-fische/kickstarter-ml-project/.venv/lib/python3.11/site-packages/sklearn/tree/_classes.py:269: FutureWarning: `max_features='auto'` has been deprecated in 1.1 and will be removed in 1.3. To keep the past behaviour, explicitly set `max_features='sqrt'`.\n",
      "  warnings.warn(\n",
      "/Users/annelahann/neue-fische/kickstarter-ml-project/.venv/lib/python3.11/site-packages/sklearn/tree/_classes.py:269: FutureWarning: `max_features='auto'` has been deprecated in 1.1 and will be removed in 1.3. To keep the past behaviour, explicitly set `max_features='sqrt'`.\n",
      "  warnings.warn(\n",
      "/Users/annelahann/neue-fische/kickstarter-ml-project/.venv/lib/python3.11/site-packages/sklearn/tree/_classes.py:269: FutureWarning: `max_features='auto'` has been deprecated in 1.1 and will be removed in 1.3. To keep the past behaviour, explicitly set `max_features='sqrt'`.\n",
      "  warnings.warn(\n"
     ]
    },
    {
     "name": "stdout",
     "output_type": "stream",
     "text": [
      "[CV 1/5] END dectr__criterion=entropy, dectr__max_depth=20, dectr__max_features=auto;, score=0.640 total time=   0.7s\n",
      "[CV 3/5] END dectr__criterion=entropy, dectr__max_depth=20, dectr__max_features=auto;, score=0.651 total time=   0.7s\n",
      "[CV 2/5] END dectr__criterion=entropy, dectr__max_depth=20, dectr__max_features=auto;, score=0.648 total time=   0.7s\n",
      "[CV 5/5] END dectr__criterion=entropy, dectr__max_depth=20, dectr__max_features=auto;, score=0.654 total time=   0.8s\n",
      "[CV 2/5] END dectr__criterion=entropy, dectr__max_depth=20, dectr__max_features=sqrt;, score=0.658 total time=   0.6s\n",
      "[CV 4/5] END dectr__criterion=entropy, dectr__max_depth=20, dectr__max_features=auto;, score=0.643 total time=   0.8s\n",
      "[CV 1/5] END dectr__criterion=entropy, dectr__max_depth=20, dectr__max_features=sqrt;, score=0.653 total time=   0.8s\n",
      "[CV 3/5] END dectr__criterion=entropy, dectr__max_depth=20, dectr__max_features=sqrt;, score=0.650 total time=   0.6s\n",
      "[CV 4/5] END dectr__criterion=entropy, dectr__max_depth=20, dectr__max_features=sqrt;, score=0.647 total time=   0.4s\n",
      "[CV 5/5] END dectr__criterion=entropy, dectr__max_depth=20, dectr__max_features=sqrt;, score=0.647 total time=   0.5s\n"
     ]
    },
    {
     "data": {
      "text/html": [
       "<style>#sk-container-id-5 {color: black;background-color: white;}#sk-container-id-5 pre{padding: 0;}#sk-container-id-5 div.sk-toggleable {background-color: white;}#sk-container-id-5 label.sk-toggleable__label {cursor: pointer;display: block;width: 100%;margin-bottom: 0;padding: 0.3em;box-sizing: border-box;text-align: center;}#sk-container-id-5 label.sk-toggleable__label-arrow:before {content: \"▸\";float: left;margin-right: 0.25em;color: #696969;}#sk-container-id-5 label.sk-toggleable__label-arrow:hover:before {color: black;}#sk-container-id-5 div.sk-estimator:hover label.sk-toggleable__label-arrow:before {color: black;}#sk-container-id-5 div.sk-toggleable__content {max-height: 0;max-width: 0;overflow: hidden;text-align: left;background-color: #f0f8ff;}#sk-container-id-5 div.sk-toggleable__content pre {margin: 0.2em;color: black;border-radius: 0.25em;background-color: #f0f8ff;}#sk-container-id-5 input.sk-toggleable__control:checked~div.sk-toggleable__content {max-height: 200px;max-width: 100%;overflow: auto;}#sk-container-id-5 input.sk-toggleable__control:checked~label.sk-toggleable__label-arrow:before {content: \"▾\";}#sk-container-id-5 div.sk-estimator input.sk-toggleable__control:checked~label.sk-toggleable__label {background-color: #d4ebff;}#sk-container-id-5 div.sk-label input.sk-toggleable__control:checked~label.sk-toggleable__label {background-color: #d4ebff;}#sk-container-id-5 input.sk-hidden--visually {border: 0;clip: rect(1px 1px 1px 1px);clip: rect(1px, 1px, 1px, 1px);height: 1px;margin: -1px;overflow: hidden;padding: 0;position: absolute;width: 1px;}#sk-container-id-5 div.sk-estimator {font-family: monospace;background-color: #f0f8ff;border: 1px dotted black;border-radius: 0.25em;box-sizing: border-box;margin-bottom: 0.5em;}#sk-container-id-5 div.sk-estimator:hover {background-color: #d4ebff;}#sk-container-id-5 div.sk-parallel-item::after {content: \"\";width: 100%;border-bottom: 1px solid gray;flex-grow: 1;}#sk-container-id-5 div.sk-label:hover label.sk-toggleable__label {background-color: #d4ebff;}#sk-container-id-5 div.sk-serial::before {content: \"\";position: absolute;border-left: 1px solid gray;box-sizing: border-box;top: 0;bottom: 0;left: 50%;z-index: 0;}#sk-container-id-5 div.sk-serial {display: flex;flex-direction: column;align-items: center;background-color: white;padding-right: 0.2em;padding-left: 0.2em;position: relative;}#sk-container-id-5 div.sk-item {position: relative;z-index: 1;}#sk-container-id-5 div.sk-parallel {display: flex;align-items: stretch;justify-content: center;background-color: white;position: relative;}#sk-container-id-5 div.sk-item::before, #sk-container-id-5 div.sk-parallel-item::before {content: \"\";position: absolute;border-left: 1px solid gray;box-sizing: border-box;top: 0;bottom: 0;left: 50%;z-index: -1;}#sk-container-id-5 div.sk-parallel-item {display: flex;flex-direction: column;z-index: 1;position: relative;background-color: white;}#sk-container-id-5 div.sk-parallel-item:first-child::after {align-self: flex-end;width: 50%;}#sk-container-id-5 div.sk-parallel-item:last-child::after {align-self: flex-start;width: 50%;}#sk-container-id-5 div.sk-parallel-item:only-child::after {width: 0;}#sk-container-id-5 div.sk-dashed-wrapped {border: 1px dashed gray;margin: 0 0.4em 0.5em 0.4em;box-sizing: border-box;padding-bottom: 0.4em;background-color: white;}#sk-container-id-5 div.sk-label label {font-family: monospace;font-weight: bold;display: inline-block;line-height: 1.2em;}#sk-container-id-5 div.sk-label-container {text-align: center;}#sk-container-id-5 div.sk-container {/* jupyter's `normalize.less` sets `[hidden] { display: none; }` but bootstrap.min.css set `[hidden] { display: none !important; }` so we also need the `!important` here to be able to override the default hidden behavior on the sphinx rendered scikit-learn.org. See: https://github.com/scikit-learn/scikit-learn/issues/21755 */display: inline-block !important;position: relative;}#sk-container-id-5 div.sk-text-repr-fallback {display: none;}</style><div id=\"sk-container-id-5\" class=\"sk-top-container\"><div class=\"sk-text-repr-fallback\"><pre>GridSearchCV(cv=5,\n",
       "             estimator=Pipeline(steps=[(&#x27;preprocessor&#x27;,\n",
       "                                        ColumnTransformer(transformers=[(&#x27;num&#x27;,\n",
       "                                                                         Pipeline(steps=[(&#x27;imputer_num&#x27;,\n",
       "                                                                                          SimpleImputer(strategy=&#x27;median&#x27;)),\n",
       "                                                                                         (&#x27;std_scaler&#x27;,\n",
       "                                                                                          StandardScaler())]),\n",
       "                                                                         [&#x27;duration&#x27;,\n",
       "                                                                          &#x27;goal&#x27;]),\n",
       "                                                                        (&#x27;cat&#x27;,\n",
       "                                                                         Pipeline(steps=[(&#x27;imputer_cat&#x27;,\n",
       "                                                                                          SimpleImputer(fill_value=&#x27;missing&#x27;,\n",
       "                                                                                                        strategy=&#x27;constant&#x27;)),\n",
       "                                                                                         (&#x27;1hot&#x27;,\n",
       "                                                                                          OneHotEncoder(handle_unknown=&#x27;ignore&#x27;))]),\n",
       "                                                                         [&#x27;main_category&#x27;,\n",
       "                                                                          &#x27;location_type&#x27;,\n",
       "                                                                          &#x27;country&#x27;,\n",
       "                                                                          &#x27;launched_at_month&#x27;,\n",
       "                                                                          &#x27;launched_at_day&#x27;])])),\n",
       "                                       (&#x27;dectr&#x27;, DecisionTreeClassifier())]),\n",
       "             n_jobs=-1,\n",
       "             param_grid={&#x27;dectr__criterion&#x27;: (&#x27;gini&#x27;, &#x27;entropy&#x27;),\n",
       "                         &#x27;dectr__max_depth&#x27;: [5, 10, 20],\n",
       "                         &#x27;dectr__max_features&#x27;: [&#x27;auto&#x27;, &#x27;sqrt&#x27;]},\n",
       "             scoring=&#x27;accuracy&#x27;, verbose=5)</pre><b>In a Jupyter environment, please rerun this cell to show the HTML representation or trust the notebook. <br />On GitHub, the HTML representation is unable to render, please try loading this page with nbviewer.org.</b></div><div class=\"sk-container\" hidden><div class=\"sk-item sk-dashed-wrapped\"><div class=\"sk-label-container\"><div class=\"sk-label sk-toggleable\"><input class=\"sk-toggleable__control sk-hidden--visually\" id=\"sk-estimator-id-39\" type=\"checkbox\" ><label for=\"sk-estimator-id-39\" class=\"sk-toggleable__label sk-toggleable__label-arrow\">GridSearchCV</label><div class=\"sk-toggleable__content\"><pre>GridSearchCV(cv=5,\n",
       "             estimator=Pipeline(steps=[(&#x27;preprocessor&#x27;,\n",
       "                                        ColumnTransformer(transformers=[(&#x27;num&#x27;,\n",
       "                                                                         Pipeline(steps=[(&#x27;imputer_num&#x27;,\n",
       "                                                                                          SimpleImputer(strategy=&#x27;median&#x27;)),\n",
       "                                                                                         (&#x27;std_scaler&#x27;,\n",
       "                                                                                          StandardScaler())]),\n",
       "                                                                         [&#x27;duration&#x27;,\n",
       "                                                                          &#x27;goal&#x27;]),\n",
       "                                                                        (&#x27;cat&#x27;,\n",
       "                                                                         Pipeline(steps=[(&#x27;imputer_cat&#x27;,\n",
       "                                                                                          SimpleImputer(fill_value=&#x27;missing&#x27;,\n",
       "                                                                                                        strategy=&#x27;constant&#x27;)),\n",
       "                                                                                         (&#x27;1hot&#x27;,\n",
       "                                                                                          OneHotEncoder(handle_unknown=&#x27;ignore&#x27;))]),\n",
       "                                                                         [&#x27;main_category&#x27;,\n",
       "                                                                          &#x27;location_type&#x27;,\n",
       "                                                                          &#x27;country&#x27;,\n",
       "                                                                          &#x27;launched_at_month&#x27;,\n",
       "                                                                          &#x27;launched_at_day&#x27;])])),\n",
       "                                       (&#x27;dectr&#x27;, DecisionTreeClassifier())]),\n",
       "             n_jobs=-1,\n",
       "             param_grid={&#x27;dectr__criterion&#x27;: (&#x27;gini&#x27;, &#x27;entropy&#x27;),\n",
       "                         &#x27;dectr__max_depth&#x27;: [5, 10, 20],\n",
       "                         &#x27;dectr__max_features&#x27;: [&#x27;auto&#x27;, &#x27;sqrt&#x27;]},\n",
       "             scoring=&#x27;accuracy&#x27;, verbose=5)</pre></div></div></div><div class=\"sk-parallel\"><div class=\"sk-parallel-item\"><div class=\"sk-item\"><div class=\"sk-label-container\"><div class=\"sk-label sk-toggleable\"><input class=\"sk-toggleable__control sk-hidden--visually\" id=\"sk-estimator-id-40\" type=\"checkbox\" ><label for=\"sk-estimator-id-40\" class=\"sk-toggleable__label sk-toggleable__label-arrow\">estimator: Pipeline</label><div class=\"sk-toggleable__content\"><pre>Pipeline(steps=[(&#x27;preprocessor&#x27;,\n",
       "                 ColumnTransformer(transformers=[(&#x27;num&#x27;,\n",
       "                                                  Pipeline(steps=[(&#x27;imputer_num&#x27;,\n",
       "                                                                   SimpleImputer(strategy=&#x27;median&#x27;)),\n",
       "                                                                  (&#x27;std_scaler&#x27;,\n",
       "                                                                   StandardScaler())]),\n",
       "                                                  [&#x27;duration&#x27;, &#x27;goal&#x27;]),\n",
       "                                                 (&#x27;cat&#x27;,\n",
       "                                                  Pipeline(steps=[(&#x27;imputer_cat&#x27;,\n",
       "                                                                   SimpleImputer(fill_value=&#x27;missing&#x27;,\n",
       "                                                                                 strategy=&#x27;constant&#x27;)),\n",
       "                                                                  (&#x27;1hot&#x27;,\n",
       "                                                                   OneHotEncoder(handle_unknown=&#x27;ignore&#x27;))]),\n",
       "                                                  [&#x27;main_category&#x27;,\n",
       "                                                   &#x27;location_type&#x27;, &#x27;country&#x27;,\n",
       "                                                   &#x27;launched_at_month&#x27;,\n",
       "                                                   &#x27;launched_at_day&#x27;])])),\n",
       "                (&#x27;dectr&#x27;, DecisionTreeClassifier())])</pre></div></div></div><div class=\"sk-serial\"><div class=\"sk-item\"><div class=\"sk-serial\"><div class=\"sk-item sk-dashed-wrapped\"><div class=\"sk-label-container\"><div class=\"sk-label sk-toggleable\"><input class=\"sk-toggleable__control sk-hidden--visually\" id=\"sk-estimator-id-41\" type=\"checkbox\" ><label for=\"sk-estimator-id-41\" class=\"sk-toggleable__label sk-toggleable__label-arrow\">preprocessor: ColumnTransformer</label><div class=\"sk-toggleable__content\"><pre>ColumnTransformer(transformers=[(&#x27;num&#x27;,\n",
       "                                 Pipeline(steps=[(&#x27;imputer_num&#x27;,\n",
       "                                                  SimpleImputer(strategy=&#x27;median&#x27;)),\n",
       "                                                 (&#x27;std_scaler&#x27;,\n",
       "                                                  StandardScaler())]),\n",
       "                                 [&#x27;duration&#x27;, &#x27;goal&#x27;]),\n",
       "                                (&#x27;cat&#x27;,\n",
       "                                 Pipeline(steps=[(&#x27;imputer_cat&#x27;,\n",
       "                                                  SimpleImputer(fill_value=&#x27;missing&#x27;,\n",
       "                                                                strategy=&#x27;constant&#x27;)),\n",
       "                                                 (&#x27;1hot&#x27;,\n",
       "                                                  OneHotEncoder(handle_unknown=&#x27;ignore&#x27;))]),\n",
       "                                 [&#x27;main_category&#x27;, &#x27;location_type&#x27;, &#x27;country&#x27;,\n",
       "                                  &#x27;launched_at_month&#x27;, &#x27;launched_at_day&#x27;])])</pre></div></div></div><div class=\"sk-parallel\"><div class=\"sk-parallel-item\"><div class=\"sk-item\"><div class=\"sk-label-container\"><div class=\"sk-label sk-toggleable\"><input class=\"sk-toggleable__control sk-hidden--visually\" id=\"sk-estimator-id-42\" type=\"checkbox\" ><label for=\"sk-estimator-id-42\" class=\"sk-toggleable__label sk-toggleable__label-arrow\">num</label><div class=\"sk-toggleable__content\"><pre>[&#x27;duration&#x27;, &#x27;goal&#x27;]</pre></div></div></div><div class=\"sk-serial\"><div class=\"sk-item\"><div class=\"sk-serial\"><div class=\"sk-item\"><div class=\"sk-estimator sk-toggleable\"><input class=\"sk-toggleable__control sk-hidden--visually\" id=\"sk-estimator-id-43\" type=\"checkbox\" ><label for=\"sk-estimator-id-43\" class=\"sk-toggleable__label sk-toggleable__label-arrow\">SimpleImputer</label><div class=\"sk-toggleable__content\"><pre>SimpleImputer(strategy=&#x27;median&#x27;)</pre></div></div></div><div class=\"sk-item\"><div class=\"sk-estimator sk-toggleable\"><input class=\"sk-toggleable__control sk-hidden--visually\" id=\"sk-estimator-id-44\" type=\"checkbox\" ><label for=\"sk-estimator-id-44\" class=\"sk-toggleable__label sk-toggleable__label-arrow\">StandardScaler</label><div class=\"sk-toggleable__content\"><pre>StandardScaler()</pre></div></div></div></div></div></div></div></div><div class=\"sk-parallel-item\"><div class=\"sk-item\"><div class=\"sk-label-container\"><div class=\"sk-label sk-toggleable\"><input class=\"sk-toggleable__control sk-hidden--visually\" id=\"sk-estimator-id-45\" type=\"checkbox\" ><label for=\"sk-estimator-id-45\" class=\"sk-toggleable__label sk-toggleable__label-arrow\">cat</label><div class=\"sk-toggleable__content\"><pre>[&#x27;main_category&#x27;, &#x27;location_type&#x27;, &#x27;country&#x27;, &#x27;launched_at_month&#x27;, &#x27;launched_at_day&#x27;]</pre></div></div></div><div class=\"sk-serial\"><div class=\"sk-item\"><div class=\"sk-serial\"><div class=\"sk-item\"><div class=\"sk-estimator sk-toggleable\"><input class=\"sk-toggleable__control sk-hidden--visually\" id=\"sk-estimator-id-46\" type=\"checkbox\" ><label for=\"sk-estimator-id-46\" class=\"sk-toggleable__label sk-toggleable__label-arrow\">SimpleImputer</label><div class=\"sk-toggleable__content\"><pre>SimpleImputer(fill_value=&#x27;missing&#x27;, strategy=&#x27;constant&#x27;)</pre></div></div></div><div class=\"sk-item\"><div class=\"sk-estimator sk-toggleable\"><input class=\"sk-toggleable__control sk-hidden--visually\" id=\"sk-estimator-id-47\" type=\"checkbox\" ><label for=\"sk-estimator-id-47\" class=\"sk-toggleable__label sk-toggleable__label-arrow\">OneHotEncoder</label><div class=\"sk-toggleable__content\"><pre>OneHotEncoder(handle_unknown=&#x27;ignore&#x27;)</pre></div></div></div></div></div></div></div></div></div></div><div class=\"sk-item\"><div class=\"sk-estimator sk-toggleable\"><input class=\"sk-toggleable__control sk-hidden--visually\" id=\"sk-estimator-id-48\" type=\"checkbox\" ><label for=\"sk-estimator-id-48\" class=\"sk-toggleable__label sk-toggleable__label-arrow\">DecisionTreeClassifier</label><div class=\"sk-toggleable__content\"><pre>DecisionTreeClassifier()</pre></div></div></div></div></div></div></div></div></div></div></div></div>"
      ],
      "text/plain": [
       "GridSearchCV(cv=5,\n",
       "             estimator=Pipeline(steps=[('preprocessor',\n",
       "                                        ColumnTransformer(transformers=[('num',\n",
       "                                                                         Pipeline(steps=[('imputer_num',\n",
       "                                                                                          SimpleImputer(strategy='median')),\n",
       "                                                                                         ('std_scaler',\n",
       "                                                                                          StandardScaler())]),\n",
       "                                                                         ['duration',\n",
       "                                                                          'goal']),\n",
       "                                                                        ('cat',\n",
       "                                                                         Pipeline(steps=[('imputer_cat',\n",
       "                                                                                          SimpleImputer(fill_value='missing',\n",
       "                                                                                                        strategy='constant')),\n",
       "                                                                                         ('1hot',\n",
       "                                                                                          OneHotEncoder(handle_unknown='ignore'))]),\n",
       "                                                                         ['main_category',\n",
       "                                                                          'location_type',\n",
       "                                                                          'country',\n",
       "                                                                          'launched_at_month',\n",
       "                                                                          'launched_at_day'])])),\n",
       "                                       ('dectr', DecisionTreeClassifier())]),\n",
       "             n_jobs=-1,\n",
       "             param_grid={'dectr__criterion': ('gini', 'entropy'),\n",
       "                         'dectr__max_depth': [5, 10, 20],\n",
       "                         'dectr__max_features': ['auto', 'sqrt']},\n",
       "             scoring='accuracy', verbose=5)"
      ]
     },
     "execution_count": 35,
     "metadata": {},
     "output_type": "execute_result"
    }
   ],
   "source": [
    "grid_dectr.fit(X_train, y_train)"
   ]
  },
  {
   "cell_type": "code",
   "execution_count": 36,
   "metadata": {},
   "outputs": [
    {
     "name": "stdout",
     "output_type": "stream",
     "text": [
      "Best score:\n",
      "0.65\n",
      "Best parameters:\n",
      "{'dectr__criterion': 'entropy', 'dectr__max_depth': 20, 'dectr__max_features': 'sqrt'}\n"
     ]
    }
   ],
   "source": [
    "# Show best parameters\n",
    "print('Best score:\\n{:.2f}'.format(grid_dectr.best_score_))\n",
    "print(\"Best parameters:\\n{}\".format(grid_dectr.best_params_))\n"
   ]
  },
  {
   "cell_type": "code",
   "execution_count": 41,
   "metadata": {},
   "outputs": [
    {
     "name": "stdout",
     "output_type": "stream",
     "text": [
      "Feature Importance:  [1.83836348e-01 2.55559531e-01 4.68250655e-03 1.52170762e-03\n",
      " 5.60138019e-03 2.73087413e-02 2.15929657e-03 5.42765886e-03\n",
      " 1.59433789e-02 6.04273105e-02 1.71127142e-02 1.51511114e-02\n",
      " 4.16303220e-02 1.91446699e-02 5.43592387e-02 3.03543994e-02\n",
      " 2.16950979e-03 9.25002938e-05 7.64210638e-03 0.00000000e+00\n",
      " 5.89066516e-04 1.69728026e-03 4.27146581e-05 4.18754026e-03\n",
      " 6.39027548e-03 1.12230263e-03 2.03285740e-03 7.97912454e-04\n",
      " 2.12352749e-03 5.74946905e-04 5.31897512e-03 8.76870381e-04\n",
      " 5.40796460e-03 1.46896084e-03 2.98475983e-03 2.23351064e-03\n",
      " 9.00814896e-03 2.66896525e-03 8.29702269e-04 3.76322499e-03\n",
      " 1.49128207e-03 3.56721082e-04 3.31476592e-03 1.54081978e-03\n",
      " 6.70247512e-04 9.16188852e-04 1.86782637e-03 6.41992460e-04\n",
      " 2.01066816e-02 5.90107639e-03 5.13964866e-03 5.89680129e-03\n",
      " 5.82603359e-03 5.53112265e-03 5.09092520e-03 9.89284243e-03\n",
      " 5.74830684e-03 5.44601189e-03 5.48962817e-03 6.01572988e-03\n",
      " 6.41070878e-03 5.41585777e-03 3.42131307e-03 3.71038438e-03\n",
      " 2.65553478e-03 3.45748497e-03 3.23907922e-03 3.31832608e-03\n",
      " 2.58491914e-03 3.23399310e-03 3.03438340e-03 2.71545053e-03\n",
      " 2.85943286e-03 1.82293852e-03 3.52941893e-03 3.67747332e-03\n",
      " 2.79881154e-03 3.12225598e-03 3.03817083e-03 2.55962891e-03\n",
      " 3.96017670e-03 3.06983985e-03 2.71193831e-03 2.64464499e-03\n",
      " 2.11486391e-03 2.62064996e-03 2.73319669e-03 2.82394632e-03\n",
      " 3.21276873e-03 2.13028915e-03 2.59969153e-03 1.64383681e-03]\n"
     ]
    }
   ],
   "source": [
    "# Save best model (including fitted preprocessing steps) as best_model \n",
    "best_model = grid_dectr.best_estimator_\n",
    "best_model\n",
    "if 'dectr' in best_model.named_steps:\n",
    "    feature_importance=best_model.named_steps['dectr'].feature_importances_\n",
    "    print(\"Feature Importance: \", feature_importance)\n",
    "else:\n",
    "    print(\"best model is not a decision tree\")"
   ]
  },
  {
   "cell_type": "code",
   "execution_count": null,
   "metadata": {},
   "outputs": [],
   "source": [
    "index_feat=range(1,len(feature_importance)+1)\n"
   ]
  },
  {
   "cell_type": "code",
   "execution_count": 39,
   "metadata": {},
   "outputs": [
    {
     "ename": "AttributeError",
     "evalue": "'Pipeline' object has no attribute 'feature_importance_'",
     "output_type": "error",
     "traceback": [
      "\u001b[0;31m---------------------------------------------------------------------------\u001b[0m",
      "\u001b[0;31mAttributeError\u001b[0m                            Traceback (most recent call last)",
      "\u001b[1;32m/Users/annelahann/neue-fische/kickstarter-ml-project/model_dt.ipynb Cell 21\u001b[0m line \u001b[0;36m4\n\u001b[1;32m      <a href='vscode-notebook-cell:/Users/annelahann/neue-fische/kickstarter-ml-project/model_dt.ipynb#X30sZmlsZQ%3D%3D?line=1'>2</a>\u001b[0m y_test_predicted \u001b[39m=\u001b[39m best_model\u001b[39m.\u001b[39mpredict(X_test)\n\u001b[1;32m      <a href='vscode-notebook-cell:/Users/annelahann/neue-fische/kickstarter-ml-project/model_dt.ipynb#X30sZmlsZQ%3D%3D?line=2'>3</a>\u001b[0m y_train_predicted \u001b[39m=\u001b[39m best_model\u001b[39m.\u001b[39mpredict(X_train)\n\u001b[0;32m----> <a href='vscode-notebook-cell:/Users/annelahann/neue-fische/kickstarter-ml-project/model_dt.ipynb#X30sZmlsZQ%3D%3D?line=3'>4</a>\u001b[0m feature_importance\u001b[39m=\u001b[39mbest_model\u001b[39m.\u001b[39;49mfeature_importance_\n\u001b[1;32m      <a href='vscode-notebook-cell:/Users/annelahann/neue-fische/kickstarter-ml-project/model_dt.ipynb#X30sZmlsZQ%3D%3D?line=5'>6</a>\u001b[0m \u001b[39mprint\u001b[39m(\u001b[39m\"\u001b[39m\u001b[39mFeature-Importance:\u001b[39m\u001b[39m\"\u001b[39m, feature_importance)\n\u001b[1;32m      <a href='vscode-notebook-cell:/Users/annelahann/neue-fische/kickstarter-ml-project/model_dt.ipynb#X30sZmlsZQ%3D%3D?line=7'>8</a>\u001b[0m \u001b[39mprint\u001b[39m(\u001b[39m\"\u001b[39m\u001b[39mAccuracy: \u001b[39m\u001b[39m{:.2f}\u001b[39;00m\u001b[39m\"\u001b[39m\u001b[39m.\u001b[39mformat(accuracy_score(y_test, y_test_predicted)))\n",
      "\u001b[0;31mAttributeError\u001b[0m: 'Pipeline' object has no attribute 'feature_importance_'"
     ]
    }
   ],
   "source": [
    "#Calculating the accuracy, recall and precision for the test set with the optimized model\n",
    "y_test_predicted = best_model.predict(X_test)\n",
    "y_train_predicted = best_model.predict(X_train)\n",
    "\n",
    "print(\"Accuracy: {:.2f}\".format(accuracy_score(y_test, y_test_predicted)))\n",
    "print(\"Recall: {:.2f}\".format(recall_score(y_test, y_test_predicted)))\n",
    "print(\"Precision: {:.2f}\".format(precision_score(y_test, y_test_predicted)))\n",
    "print(confusion_matrix(y_test, y_test_predicted))\n",
    "\n",
    "print(\"Accuracy: {:.2f}\".format(accuracy_score(y_train, y_train_predicted)))\n",
    "print(\"Recall: {:.2f}\".format(recall_score(y_train, y_train_predicted)))\n",
    "print(\"Precision: {:.2f}\".format(precision_score(y_train, y_train_predicted)))\n",
    "print(confusion_matrix(y_train, y_train_predicted))"
   ]
  }
 ],
 "metadata": {
  "kernelspec": {
   "display_name": "Python 3",
   "language": "python",
   "name": "python3"
  },
  "language_info": {
   "codemirror_mode": {
    "name": "ipython",
    "version": 3
   },
   "file_extension": ".py",
   "mimetype": "text/x-python",
   "name": "python",
   "nbconvert_exporter": "python",
   "pygments_lexer": "ipython3",
   "version": "3.11.3"
  }
 },
 "nbformat": 4,
 "nbformat_minor": 2
}
