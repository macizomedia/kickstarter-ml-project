{
 "cells": [
  {
   "cell_type": "code",
   "execution_count": 2,
   "metadata": {},
   "outputs": [],
   "source": [
    "import pandas as pd\n",
    "import numpy as np\n",
    "import matplotlib.pyplot as plt\n",
    "import seaborn as sns\n",
    "\n",
    "from sklearn.preprocessing import LabelEncoder, StandardScaler\n",
    "from sklearn.preprocessing import OneHotEncoder, StandardScaler\n",
    "from sklearn.impute import SimpleImputer\n",
    "from sklearn.model_selection import train_test_split, cross_val_score, GridSearchCV\n",
    "from sklearn.metrics import accuracy_score, confusion_matrix, classification_report, roc_auc_score, roc_curve, f1_score, precision_score, recall_score\n",
    "from sklearn.linear_model import LogisticRegression\n",
    "from sklearn.neighbors import KNeighborsClassifier\n",
    "from sklearn.ensemble import RandomForestClassifier, GradientBoostingClassifier, AdaBoostClassifier\n",
    "from sklearn.svm import SVC\n",
    "from sklearn.tree import DecisionTreeClassifier\n",
    "#from xgboost import XGBClassifier\n",
    "from sklearn.pipeline import Pipeline\n",
    "from sklearn.model_selection import cross_val_predict\n",
    "\n",
    "\n",
    "RSEED=42"
   ]
  },
  {
   "cell_type": "code",
   "execution_count": 3,
   "metadata": {},
   "outputs": [],
   "source": [
    "df = pd.read_csv('data_text_processed.csv')"
   ]
  },
  {
   "cell_type": "code",
   "execution_count": 4,
   "metadata": {},
   "outputs": [
    {
     "name": "stdout",
     "output_type": "stream",
     "text": [
      "<class 'pandas.core.frame.DataFrame'>\n",
      "RangeIndex: 177522 entries, 0 to 177521\n",
      "Columns: 114 entries, blurb to young\n",
      "dtypes: float64(101), int64(4), object(9)\n",
      "memory usage: 154.4+ MB\n"
     ]
    }
   ],
   "source": [
    "df[['launched_at_day','launched_at_month']]=df[['launched_at_day','launched_at_month']].astype(object)\n",
    "df.info()"
   ]
  },
  {
   "cell_type": "code",
   "execution_count": 5,
   "metadata": {},
   "outputs": [],
   "source": [
    "df['target'] = df['state'].apply(lambda x: 1 if x == 'successful' else 0)"
   ]
  },
  {
   "cell_type": "code",
   "execution_count": 6,
   "metadata": {},
   "outputs": [],
   "source": [
    "df.drop(['state', 'blurb', 'name'], axis=1, inplace=True)"
   ]
  },
  {
   "cell_type": "code",
   "execution_count": 7,
   "metadata": {},
   "outputs": [
    {
     "name": "stdout",
     "output_type": "stream",
     "text": [
      "We have 177522 observations in our dataset and 110 features\n",
      "Our target vector has also 177522 values\n"
     ]
    }
   ],
   "source": [
    "X = df.drop(['target'], axis=1)\n",
    "y = df['target']\n",
    "print(f\"We have {X.shape[0]} observations in our dataset and {X.shape[1]} features\")\n",
    "print(f\"Our target vector has also {y.shape[0]} values\")"
   ]
  },
  {
   "cell_type": "code",
   "execution_count": 8,
   "metadata": {},
   "outputs": [
    {
     "name": "stdout",
     "output_type": "stream",
     "text": [
      "Percentage of successful projects: 53.0%\n",
      "Percentage of failed projects: 47.0%\n",
      "Ratio of successful projects to failed projects: 1.14\n"
     ]
    }
   ],
   "source": [
    "# get percentage of class imbalance\n",
    "print(f\"Percentage of successful projects: {round(y.value_counts()[1]/len(y),2)*100}%\")\n",
    "print(f\"Percentage of failed projects: {round(y.value_counts()[0]/len(y),2)*100}%\")\n",
    "# print ratio of class imbalance\n",
    "print(f\"Ratio of successful projects to failed projects: {round(y.value_counts()[1]/y.value_counts()[0],2)}\")\n"
   ]
  },
  {
   "cell_type": "code",
   "execution_count": 9,
   "metadata": {},
   "outputs": [
    {
     "data": {
      "text/plain": [
       "['country',\n",
       " 'main_category',\n",
       " 'sub_category',\n",
       " 'location_type',\n",
       " 'launched_at_month',\n",
       " 'launched_at_day']"
      ]
     },
     "execution_count": 9,
     "metadata": {},
     "output_type": "execute_result"
    }
   ],
   "source": [
    "# Creating list for categorical predictors/features \n",
    "# (dates are also objects so if you have them in your data you would deal with them first)\n",
    "cat_features = list(X.columns[X.dtypes==object])\n",
    "cat_features"
   ]
  },
  {
   "cell_type": "code",
   "execution_count": 10,
   "metadata": {},
   "outputs": [],
   "source": [
    "# Creating list for numerical predictors/features\n",
    "# Since 'Survived' is our target variable we will exclude this feature from this list of numerical predictors \n",
    "num_features = list(X.columns[X.dtypes!=object])"
   ]
  },
  {
   "cell_type": "code",
   "execution_count": 11,
   "metadata": {},
   "outputs": [],
   "source": [
    "# Split into train and test set \n",
    "X_train, X_test, y_train, y_test = train_test_split(X, y, test_size=0.2, random_state=RSEED)"
   ]
  },
  {
   "cell_type": "code",
   "execution_count": 12,
   "metadata": {},
   "outputs": [
    {
     "name": "stdout",
     "output_type": "stream",
     "text": [
      "X_train shape: (142017, 110)\n",
      "X_test shape: (35505, 110)\n",
      "y_train shape: (142017,)\n",
      "y_test shape: (35505,)\n"
     ]
    }
   ],
   "source": [
    "print('X_train shape:', X_train.shape)\n",
    "print('X_test shape:', X_test.shape)\n",
    "print('y_train shape:', y_train.shape)\n",
    "print('y_test shape:', y_test.shape)"
   ]
  },
  {
   "cell_type": "code",
   "execution_count": 13,
   "metadata": {},
   "outputs": [],
   "source": [
    "X.describe()\n",
    "X['goal'] = np.log(X['goal'])"
   ]
  },
  {
   "cell_type": "code",
   "execution_count": 14,
   "metadata": {},
   "outputs": [],
   "source": [
    "from sklearn.pipeline import Pipeline\n",
    "\n",
    "# Pipeline for numerical features\n",
    "# Initiating Pipeline and calling one step after another\n",
    "# each step is built as a list of (key, value)\n",
    "# key is the name of the processing step\n",
    "# value is an estimator object (processing step)\n",
    "num_pipeline = Pipeline([\n",
    "    ('imputer_num', SimpleImputer(strategy='median')),\n",
    "    ('std_scaler', StandardScaler())\n",
    "])\n",
    "\n",
    "# Pipeline for categorical features \n",
    "cat_pipeline = Pipeline([\n",
    "    ('imputer_cat', SimpleImputer(strategy='constant', fill_value='missing')),\n",
    "    ('1hot', OneHotEncoder(handle_unknown='ignore'))\n",
    "])"
   ]
  },
  {
   "cell_type": "code",
   "execution_count": 15,
   "metadata": {},
   "outputs": [],
   "source": [
    "from sklearn.compose import ColumnTransformer\n",
    "\n",
    "# Complete pipeline for numerical and categorical features\n",
    "# 'ColumnTransformer' applies transformers (num_pipeline/ cat_pipeline)\n",
    "# to specific columns of an array or DataFrame (num_features/cat_features)\n",
    "preprocessor = ColumnTransformer([\n",
    "    ('num', num_pipeline, num_features),\n",
    "    ('cat', cat_pipeline, cat_features)\n",
    "])"
   ]
  },
  {
   "cell_type": "code",
   "execution_count": 16,
   "metadata": {},
   "outputs": [],
   "source": [
    "# Building a full pipeline with our preprocessor and a LogisticRegression Classifier\n",
    "pipe_logreg = Pipeline([\n",
    "    ('preprocessor', preprocessor),\n",
    "    ('logreg', LogisticRegression(max_iter=1000))\n",
    "])"
   ]
  },
  {
   "cell_type": "code",
   "execution_count": 17,
   "metadata": {},
   "outputs": [],
   "source": [
    "# Making predictions on the training set using cross validation as well as calculating the probabilities\n",
    "# cross_val_predict expects an estimator (model), X, y and nr of cv-splits (cv)\n",
    "y_train_predicted = cross_val_predict(pipe_logreg, X_train, y_train, cv=5)\n",
    "y_test_predicted = cross_val_predict(pipe_logreg, X_test, y_test, cv=5)"
   ]
  },
  {
   "cell_type": "code",
   "execution_count": 18,
   "metadata": {},
   "outputs": [
    {
     "name": "stdout",
     "output_type": "stream",
     "text": [
      "Cross validation scores:\n",
      "-------------------------\n",
      "Accuracy: 0.7676\n",
      "Recall: 0.7217\n",
      "Precision: 0.8201\n",
      "[[54462 11967]\n",
      " [21034 54554]]\n",
      "Accuracy: 0.7653\n",
      "Recall: 0.7255\n",
      "Precision: 0.8116\n",
      "[[13525  3169]\n",
      " [ 5163 13648]]\n"
     ]
    }
   ],
   "source": [
    "# Calculating the accuracy for the LogisticRegression Classifier \n",
    "print('Cross validation scores:')\n",
    "print('-------------------------')\n",
    "print(\"Accuracy: {:.4f}\".format(accuracy_score(y_train, y_train_predicted)))\n",
    "print(\"Recall: {:.4f}\".format(recall_score(y_train, y_train_predicted)))\n",
    "print(\"Precision: {:.4f}\".format(precision_score(y_train, y_train_predicted)))\n",
    "print(confusion_matrix(y_train, y_train_predicted))\n",
    "\n",
    "print(\"Accuracy: {:.4f}\".format(accuracy_score(y_test, y_test_predicted)))\n",
    "print(\"Recall: {:.4f}\".format(recall_score(y_test, y_test_predicted)))\n",
    "print(\"Precision: {:.4f}\".format(precision_score(y_test, y_test_predicted)))\n",
    "print(confusion_matrix(y_test, y_test_predicted))\n"
   ]
  },
  {
   "cell_type": "code",
   "execution_count": 19,
   "metadata": {},
   "outputs": [
    {
     "data": {
      "text/plain": [
       "0.7661389918041989"
      ]
     },
     "execution_count": 19,
     "metadata": {},
     "output_type": "execute_result"
    }
   ],
   "source": [
    "# f1 score\n",
    "f1_score(y_test, y_test_predicted)"
   ]
  },
  {
   "cell_type": "code",
   "execution_count": 20,
   "metadata": {},
   "outputs": [
    {
     "data": {
      "image/png": "[encoded data removed]",
      "text/plain": [
       "<Figure size 640x480 with 1 Axes>"
      ]
     },
     "metadata": {},
     "output_type": "display_data"
    }
   ],
   "source": [
    "# plot roc curve\n",
    "fpr, tpr, thresholds = roc_curve(y_test, y_test_predicted)\n",
    "plt.plot(fpr, tpr, linewidth=2)\n",
    "plt.plot([0,1], [0,1], 'k--')\n",
    "plt.axis([0,1,0,1])\n",
    "plt.xlabel('False Positive Rate')\n",
    "plt.ylabel('True Positive Rate')\n",
    "plt.show()\n"
   ]
  },
  {
   "cell_type": "code",
   "execution_count": 21,
   "metadata": {},
   "outputs": [
    {
     "name": "stdout",
     "output_type": "stream",
     "text": [
      "              precision    recall  f1-score   support\n",
      "\n",
      "           0       0.72      0.81      0.76     16694\n",
      "           1       0.81      0.73      0.77     18811\n",
      "\n",
      "    accuracy                           0.77     35505\n",
      "   macro avg       0.77      0.77      0.77     35505\n",
      "weighted avg       0.77      0.77      0.77     35505\n",
      "\n"
     ]
    }
   ],
   "source": [
    "# classification report\n",
    "print(classification_report(y_test, y_test_predicted))\n"
   ]
  },
  {
   "cell_type": "code",
   "execution_count": 22,
   "metadata": {},
   "outputs": [
    {
     "name": "stdout",
     "output_type": "stream",
     "text": [
      "0.7584840304622451\n"
     ]
    }
   ],
   "source": [
    "# f1-beta score\n",
    "from sklearn.metrics import fbeta_score\n",
    "print(fbeta_score(y_test, y_test_predicted, beta=1.2))"
   ]
  },
  {
   "cell_type": "code",
   "execution_count": 23,
   "metadata": {},
   "outputs": [],
   "source": [
    "# Defining parameter space for grid-search. Since we want to access the classifier step (called 'logreg') in our pipeline \n",
    "# we have to add 'logreg__' in front of the corresponding hyperparameters. \n",
    "param_logreg = {'logreg__penalty':('l1','l2'),\n",
    "                'logreg__C': [0.001, 0.01, 0.1, 1, 10],\n",
    "                'logreg__solver': ['liblinear', 'lbfgs', 'sag']\n",
    "               }\n",
    "\n",
    "# grid_logreg = GridSearchCV(pipe_logreg, param_grid=param_logreg, cv=5, scoring='recall', \n",
    "#                            verbose=5, n_jobs=-1)"
   ]
  },
  {
   "cell_type": "code",
   "execution_count": 24,
   "metadata": {},
   "outputs": [],
   "source": [
    "# grid_logreg.fit(X_train, y_train)"
   ]
  },
  {
   "cell_type": "code",
   "execution_count": 25,
   "metadata": {},
   "outputs": [],
   "source": [
    "# Show best parameters\n",
    "# print('Best score:\\n{:.2f}'.format(grid_logreg.best_score_))\n",
    "# print(\"Best parameters:\\n{}\".format(grid_logreg.best_params_))\n"
   ]
  },
  {
   "cell_type": "code",
   "execution_count": 26,
   "metadata": {},
   "outputs": [],
   "source": [
    "# Save best model (including fitted preprocessing steps) as best_model \n",
    "# best_model = grid_logreg.best_estimator_\n",
    "# best_model"
   ]
  },
  {
   "cell_type": "code",
   "execution_count": 27,
   "metadata": {},
   "outputs": [],
   "source": [
    "#Calculating the accuracy, recall and precision for the test set with the optimized model\n",
    "# y_test_predicted = best_model.predict(X_test)\n",
    "# y_train_predicted = best_model.predict(X_train)\n",
    "\n",
    "# print(\"Accuracy: {:.2f}\".format(accuracy_score(y_test, y_test_predicted)))\n",
    "# print(\"Recall: {:.2f}\".format(recall_score(y_test, y_test_predicted)))\n",
    "# print(\"Precision: {:.2f}\".format(precision_score(y_test, y_test_predicted)))\n",
    "# print(confusion_matrix(y_test, y_test_predicted))\n",
    "\n",
    "# print(\"Accuracy: {:.2f}\".format(accuracy_score(y_train, y_train_predicted)))\n",
    "# print(\"Recall: {:.2f}\".format(recall_score(y_train, y_train_predicted)))\n",
    "# print(\"Precision: {:.2f}\".format(precision_score(y_train, y_train_predicted)))\n",
    "# print(confusion_matrix(y_train, y_train_predicted))"
   ]
  }
 ],
 "metadata": {
  "kernelspec": {
   "display_name": "Python 3",
   "language": "python",
   "name": "python3"
  },
  "language_info": {
   "codemirror_mode": {
    "name": "ipython",
    "version": 3
   },
   "file_extension": ".py",
   "mimetype": "text/x-python",
   "name": "python",
   "nbconvert_exporter": "python",
   "pygments_lexer": "ipython3",
   "version": "3.11.6"
  }
 },
 "nbformat": 4,
 "nbformat_minor": 2
}
